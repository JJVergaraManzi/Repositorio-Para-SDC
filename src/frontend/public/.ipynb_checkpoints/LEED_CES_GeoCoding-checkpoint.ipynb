{
 "cells": [
  {
   "cell_type": "code",
   "execution_count": 12,
   "metadata": {},
   "outputs": [],
   "source": [
    "#!/usr/bin/env python3\n",
    "import pandas as pd\n",
    "from geopy.geocoders import Bing\n",
    "import csv  \n",
    "import json   \n",
    "import warnings\n",
    "warnings.filterwarnings('ignore')\n",
    "bing_key = 'ginITT5ALcrOnA4aMoH0~_vGQBu-_tnKr6FYRj6U5nA~Ar9conblprRVoeaB4uH4PKMzcs0BfrUJ5LbspSyDn04UqCpCOfsm567DJjUw-PY6'"
   ]
  },
  {
   "cell_type": "code",
   "execution_count": 13,
   "metadata": {},
   "outputs": [],
   "source": [
    "def get_geocode(row):\n",
    "    geolocator = Bing(bing_key, timeout=7)\n",
    "    location = geolocator.geocode(row)\n",
    "    if location is None:\n",
    "        print(\"NOT FOUND\")\n",
    "        return \"NOT FOUND\"\n",
    "    else:\n",
    "        if location.raw[\"address\"][\"countryRegion\"] == \"Chile\":\n",
    "            r = str(location.latitude) + \", \" + str(location.longitude)\n",
    "            print(r)\n",
    "            return r\n",
    "        else:\n",
    "            print(\"MISFORMED\")\n",
    "            return \"MISFORMED\"\n",
    "        \n",
    "def geocode(tabla):\n",
    "    if(tabla == 'LEED.csv'):\n",
    "        a = pd.read_csv(tabla,sep=',')\n",
    "        b = a.copy()\n",
    "\n",
    "        c = b[(b['ProjectName'] != 'Confidential') & (b['Street'].notnull()) & (b['Country'] == 'CL')]\n",
    "\n",
    "        c['Pais'] = 'Chile'\n",
    "        c['direccion'] = c[['Street', 'City', 'State', 'Pais']].apply(lambda x: ', '.join(x), axis=1)    \n",
    "        # Geocoding #\n",
    "        c['Coordenadas'] = c['direccion'].apply(get_geocode)\n",
    "\n",
    "        # Lat and Lon\n",
    "        lat = lambda row: row.split(',')[0].strip() + 'LEED'\n",
    "        lon = lambda row: row.split(',')[-1].strip() + 'LEED'\n",
    "        c['lat'] = c['Coordenadas'].map(lat) + 'LEED'\n",
    "        c['lon'] = c['Coordenadas'].map(lon) + 'LEED'\n",
    "        c.drop(labels=['Coordenadas'],axis=1,inplace=True)\n",
    "\n",
    "        # Save to CSV\n",
    "        n = 'data/coor_' + tabla.split('.')[0] + '.csv'\n",
    "        c.to_csv(n, sep=',', encoding='utf-8')\n",
    "        print(tabla + ' LEED table Done!')\n",
    "        \n",
    "    elif(tabla == 'CES.csv'):\n",
    "        a = pd.read_csv(tabla,sep=',')\n",
    "        b = a.copy()\n",
    "        c = b[(b['Dirección'].notnull())]\n",
    "        c['Pais'] = 'Chile'\n",
    "        c['direccion'] = c[['Dirección', 'Comuna', 'UBICACION', 'Pais']].apply(lambda x: ', '.join(x), axis=1)\n",
    "        \n",
    "        # Geocoding #\n",
    "        c['Coordenadas'] = c['direccion'].apply(get_geocode)\n",
    "\n",
    "        # Lat and Lon\n",
    "        lat = lambda row: row.split(',')[0].strip() + 'CES'\n",
    "        lon = lambda row: row.split(',')[-1].strip() + 'CES'\n",
    "        c['lat'] = c['Coordenadas'].map(lat) + 'CES'\n",
    "        c['lon'] = c['Coordenadas'].map(lon) + 'CES'\n",
    "        c.drop(labels=['Coordenadas'],axis=1,inplace=True)\n",
    "\n",
    "        # Save to CSV\n",
    "        n = 'data/coor_' + tabla.split('.')[0] + '.csv'\n",
    "        c.to_csv(n, sep=',', encoding='utf-8')\n",
    "        print(tabla + ' CES Table Done! ')  \n",
    "        \n",
    "#     # Open the CSV  \n",
    "#     f = open(n, 'rU')  \n",
    "#     # Change each fieldname to the appropriate field name. I know, so difficult.  \n",
    "#     reader = csv.DictReader(f, fieldnames = ('ID','Isconfidential','ProjectName','Street','City','State','Zipcode','Country','LEEDSystemVersionDisplayName','Sistema','PointsAchieved','CertLevel','CertDate','Mes certificación','Año' 'certificación','IsCertified','OwnerTypes','GrossSqFoot','mt2','TotalPropArea','ProjectTypes','Categoría','OwnerOrganization','RegistrationDate','Mes registro','Año registro','Pais','direccion','lat','lon'))  \n",
    "    \n",
    "#     # Parse the CSV into JSON  \n",
    "#     out = json.dumps( [ row for row in reader ] )  \n",
    "#     print(\"JSON parsed!\")  \n",
    "    \n",
    "#     # Save the JSON  \n",
    "#     f = open('leed.json', 'w')  \n",
    "#     f.write(out)  \n",
    "    \n",
    "#     print(\"JSON saved!\") "
   ]
  },
  {
   "cell_type": "code",
   "execution_count": 14,
   "metadata": {
    "scrolled": true
   },
   "outputs": [
    {
     "name": "stdout",
     "output_type": "stream",
     "text": [
      "-33.4136216, -70.6035582\n",
      "-27.147939682, -109.427581787\n",
      "-33.3840941, -70.5301508\n",
      "-27.15257, -109.43649\n",
      "-27.80712, -70.50437\n",
      "-33.51499, -70.56055\n",
      "-33.39032, -70.49858\n",
      "-41.4711318, -72.9386701\n",
      "-33.40414, -70.5703\n",
      "-27.34547, -70.35142\n",
      "-33.3773259, -70.5270803\n",
      "-33.3918983, -70.6198008\n",
      "-33.41541, -70.58387\n",
      "-33.4575568, -70.6407847\n",
      "-36.84621, -73.05298\n",
      "-23.6394500732, -70.3959732056\n",
      "-51.72413, -72.50217\n",
      "-22.909570694, -68.1990890503\n",
      "-34.91088, -71.16179\n",
      "-53.11221, -70.88237\n"
     ]
    },
    {
     "ename": "GeocoderTimedOut",
     "evalue": "Service timed out",
     "output_type": "error",
     "traceback": [
      "\u001b[0;31m---------------------------------------------------------------------------\u001b[0m",
      "\u001b[0;31mGeocoderTimedOut\u001b[0m                          Traceback (most recent call last)",
      "\u001b[0;32m<ipython-input-14-1d4c5779f63a>\u001b[0m in \u001b[0;36m<module>\u001b[0;34m()\u001b[0m\n\u001b[0;32m----> 1\u001b[0;31m \u001b[0mgeocode\u001b[0m\u001b[0;34m(\u001b[0m\u001b[0;34m'LEED.csv'\u001b[0m\u001b[0;34m)\u001b[0m\u001b[0;34m\u001b[0m\u001b[0m\n\u001b[0m\u001b[1;32m      2\u001b[0m \u001b[0mgeocode\u001b[0m\u001b[0;34m(\u001b[0m\u001b[0;34m'CES.csv'\u001b[0m\u001b[0;34m)\u001b[0m\u001b[0;34m\u001b[0m\u001b[0m\n",
      "\u001b[0;32m<ipython-input-13-552ec4fcdf5c>\u001b[0m in \u001b[0;36mgeocode\u001b[0;34m(tabla)\u001b[0m\n\u001b[1;32m     24\u001b[0m         \u001b[0mc\u001b[0m\u001b[0;34m[\u001b[0m\u001b[0;34m'direccion'\u001b[0m\u001b[0;34m]\u001b[0m \u001b[0;34m=\u001b[0m \u001b[0mc\u001b[0m\u001b[0;34m[\u001b[0m\u001b[0;34m[\u001b[0m\u001b[0;34m'Street'\u001b[0m\u001b[0;34m,\u001b[0m \u001b[0;34m'City'\u001b[0m\u001b[0;34m,\u001b[0m \u001b[0;34m'State'\u001b[0m\u001b[0;34m,\u001b[0m \u001b[0;34m'Pais'\u001b[0m\u001b[0;34m]\u001b[0m\u001b[0;34m]\u001b[0m\u001b[0;34m.\u001b[0m\u001b[0mapply\u001b[0m\u001b[0;34m(\u001b[0m\u001b[0;32mlambda\u001b[0m \u001b[0mx\u001b[0m\u001b[0;34m:\u001b[0m \u001b[0;34m', '\u001b[0m\u001b[0;34m.\u001b[0m\u001b[0mjoin\u001b[0m\u001b[0;34m(\u001b[0m\u001b[0mx\u001b[0m\u001b[0;34m)\u001b[0m\u001b[0;34m,\u001b[0m \u001b[0maxis\u001b[0m\u001b[0;34m=\u001b[0m\u001b[0;36m1\u001b[0m\u001b[0;34m)\u001b[0m\u001b[0;34m\u001b[0m\u001b[0m\n\u001b[1;32m     25\u001b[0m         \u001b[0;31m# Geocoding #\u001b[0m\u001b[0;34m\u001b[0m\u001b[0;34m\u001b[0m\u001b[0m\n\u001b[0;32m---> 26\u001b[0;31m         \u001b[0mc\u001b[0m\u001b[0;34m[\u001b[0m\u001b[0;34m'Coordenadas'\u001b[0m\u001b[0;34m]\u001b[0m \u001b[0;34m=\u001b[0m \u001b[0mc\u001b[0m\u001b[0;34m[\u001b[0m\u001b[0;34m'direccion'\u001b[0m\u001b[0;34m]\u001b[0m\u001b[0;34m.\u001b[0m\u001b[0mapply\u001b[0m\u001b[0;34m(\u001b[0m\u001b[0mget_geocode\u001b[0m\u001b[0;34m)\u001b[0m\u001b[0;34m\u001b[0m\u001b[0m\n\u001b[0m\u001b[1;32m     27\u001b[0m \u001b[0;34m\u001b[0m\u001b[0m\n\u001b[1;32m     28\u001b[0m         \u001b[0;31m# Lat and Lon\u001b[0m\u001b[0;34m\u001b[0m\u001b[0;34m\u001b[0m\u001b[0m\n",
      "\u001b[0;32m/home/juanjo/.local/lib/python2.7/site-packages/pandas/core/series.pyc\u001b[0m in \u001b[0;36mapply\u001b[0;34m(self, func, convert_dtype, args, **kwds)\u001b[0m\n\u001b[1;32m   3589\u001b[0m             \u001b[0;32melse\u001b[0m\u001b[0;34m:\u001b[0m\u001b[0;34m\u001b[0m\u001b[0m\n\u001b[1;32m   3590\u001b[0m                 \u001b[0mvalues\u001b[0m \u001b[0;34m=\u001b[0m \u001b[0mself\u001b[0m\u001b[0;34m.\u001b[0m\u001b[0mastype\u001b[0m\u001b[0;34m(\u001b[0m\u001b[0mobject\u001b[0m\u001b[0;34m)\u001b[0m\u001b[0;34m.\u001b[0m\u001b[0mvalues\u001b[0m\u001b[0;34m\u001b[0m\u001b[0m\n\u001b[0;32m-> 3591\u001b[0;31m                 \u001b[0mmapped\u001b[0m \u001b[0;34m=\u001b[0m \u001b[0mlib\u001b[0m\u001b[0;34m.\u001b[0m\u001b[0mmap_infer\u001b[0m\u001b[0;34m(\u001b[0m\u001b[0mvalues\u001b[0m\u001b[0;34m,\u001b[0m \u001b[0mf\u001b[0m\u001b[0;34m,\u001b[0m \u001b[0mconvert\u001b[0m\u001b[0;34m=\u001b[0m\u001b[0mconvert_dtype\u001b[0m\u001b[0;34m)\u001b[0m\u001b[0;34m\u001b[0m\u001b[0m\n\u001b[0m\u001b[1;32m   3592\u001b[0m \u001b[0;34m\u001b[0m\u001b[0m\n\u001b[1;32m   3593\u001b[0m         \u001b[0;32mif\u001b[0m \u001b[0mlen\u001b[0m\u001b[0;34m(\u001b[0m\u001b[0mmapped\u001b[0m\u001b[0;34m)\u001b[0m \u001b[0;32mand\u001b[0m \u001b[0misinstance\u001b[0m\u001b[0;34m(\u001b[0m\u001b[0mmapped\u001b[0m\u001b[0;34m[\u001b[0m\u001b[0;36m0\u001b[0m\u001b[0;34m]\u001b[0m\u001b[0;34m,\u001b[0m \u001b[0mSeries\u001b[0m\u001b[0;34m)\u001b[0m\u001b[0;34m:\u001b[0m\u001b[0;34m\u001b[0m\u001b[0m\n",
      "\u001b[0;32mpandas/_libs/lib.pyx\u001b[0m in \u001b[0;36mpandas._libs.lib.map_infer\u001b[0;34m()\u001b[0m\n",
      "\u001b[0;32m<ipython-input-13-552ec4fcdf5c>\u001b[0m in \u001b[0;36mget_geocode\u001b[0;34m(row)\u001b[0m\n\u001b[1;32m      1\u001b[0m \u001b[0;32mdef\u001b[0m \u001b[0mget_geocode\u001b[0m\u001b[0;34m(\u001b[0m\u001b[0mrow\u001b[0m\u001b[0;34m)\u001b[0m\u001b[0;34m:\u001b[0m\u001b[0;34m\u001b[0m\u001b[0m\n\u001b[1;32m      2\u001b[0m     \u001b[0mgeolocator\u001b[0m \u001b[0;34m=\u001b[0m \u001b[0mBing\u001b[0m\u001b[0;34m(\u001b[0m\u001b[0mbing_key\u001b[0m\u001b[0;34m,\u001b[0m \u001b[0mtimeout\u001b[0m\u001b[0;34m=\u001b[0m\u001b[0;36m7\u001b[0m\u001b[0;34m)\u001b[0m\u001b[0;34m\u001b[0m\u001b[0m\n\u001b[0;32m----> 3\u001b[0;31m     \u001b[0mlocation\u001b[0m \u001b[0;34m=\u001b[0m \u001b[0mgeolocator\u001b[0m\u001b[0;34m.\u001b[0m\u001b[0mgeocode\u001b[0m\u001b[0;34m(\u001b[0m\u001b[0mrow\u001b[0m\u001b[0;34m)\u001b[0m\u001b[0;34m\u001b[0m\u001b[0m\n\u001b[0m\u001b[1;32m      4\u001b[0m     \u001b[0;32mif\u001b[0m \u001b[0mlocation\u001b[0m \u001b[0;32mis\u001b[0m \u001b[0mNone\u001b[0m\u001b[0;34m:\u001b[0m\u001b[0;34m\u001b[0m\u001b[0m\n\u001b[1;32m      5\u001b[0m         \u001b[0;32mprint\u001b[0m\u001b[0;34m(\u001b[0m\u001b[0;34m\"NOT FOUND\"\u001b[0m\u001b[0;34m)\u001b[0m\u001b[0;34m\u001b[0m\u001b[0m\n",
      "\u001b[0;32m/home/juanjo/.local/lib/python2.7/site-packages/geopy/geocoders/bing.pyc\u001b[0m in \u001b[0;36mgeocode\u001b[0;34m(self, query, exactly_one, user_location, timeout, culture, include_neighborhood, include_country_code)\u001b[0m\n\u001b[1;32m    162\u001b[0m         \u001b[0mlogger\u001b[0m\u001b[0;34m.\u001b[0m\u001b[0mdebug\u001b[0m\u001b[0;34m(\u001b[0m\u001b[0;34m\"%s.geocode: %s\"\u001b[0m\u001b[0;34m,\u001b[0m \u001b[0mself\u001b[0m\u001b[0;34m.\u001b[0m\u001b[0m__class__\u001b[0m\u001b[0;34m.\u001b[0m\u001b[0m__name__\u001b[0m\u001b[0;34m,\u001b[0m \u001b[0murl\u001b[0m\u001b[0;34m)\u001b[0m\u001b[0;34m\u001b[0m\u001b[0m\n\u001b[1;32m    163\u001b[0m         return self._parse_json(\n\u001b[0;32m--> 164\u001b[0;31m             \u001b[0mself\u001b[0m\u001b[0;34m.\u001b[0m\u001b[0m_call_geocoder\u001b[0m\u001b[0;34m(\u001b[0m\u001b[0murl\u001b[0m\u001b[0;34m,\u001b[0m \u001b[0mtimeout\u001b[0m\u001b[0;34m=\u001b[0m\u001b[0mtimeout\u001b[0m\u001b[0;34m)\u001b[0m\u001b[0;34m,\u001b[0m\u001b[0;34m\u001b[0m\u001b[0m\n\u001b[0m\u001b[1;32m    165\u001b[0m             \u001b[0mexactly_one\u001b[0m\u001b[0;34m\u001b[0m\u001b[0m\n\u001b[1;32m    166\u001b[0m         )\n",
      "\u001b[0;32m/home/juanjo/.local/lib/python2.7/site-packages/geopy/geocoders/base.pyc\u001b[0m in \u001b[0;36m_call_geocoder\u001b[0;34m(self, url, timeout, raw, requester, deserializer, **kwargs)\u001b[0m\n\u001b[1;32m    376\u001b[0m             \u001b[0;32melif\u001b[0m \u001b[0misinstance\u001b[0m\u001b[0;34m(\u001b[0m\u001b[0merror\u001b[0m\u001b[0;34m,\u001b[0m \u001b[0mURLError\u001b[0m\u001b[0;34m)\u001b[0m\u001b[0;34m:\u001b[0m\u001b[0;34m\u001b[0m\u001b[0m\n\u001b[1;32m    377\u001b[0m                 \u001b[0;32mif\u001b[0m \u001b[0;34m\"timed out\"\u001b[0m \u001b[0;32min\u001b[0m \u001b[0mmessage\u001b[0m\u001b[0;34m:\u001b[0m\u001b[0;34m\u001b[0m\u001b[0m\n\u001b[0;32m--> 378\u001b[0;31m                     \u001b[0;32mraise\u001b[0m \u001b[0mGeocoderTimedOut\u001b[0m\u001b[0;34m(\u001b[0m\u001b[0;34m'Service timed out'\u001b[0m\u001b[0;34m)\u001b[0m\u001b[0;34m\u001b[0m\u001b[0m\n\u001b[0m\u001b[1;32m    379\u001b[0m                 \u001b[0;32melif\u001b[0m \u001b[0;34m\"unreachable\"\u001b[0m \u001b[0;32min\u001b[0m \u001b[0mmessage\u001b[0m\u001b[0;34m:\u001b[0m\u001b[0;34m\u001b[0m\u001b[0m\n\u001b[1;32m    380\u001b[0m                     \u001b[0;32mraise\u001b[0m \u001b[0mGeocoderUnavailable\u001b[0m\u001b[0;34m(\u001b[0m\u001b[0;34m'Service not available'\u001b[0m\u001b[0;34m)\u001b[0m\u001b[0;34m\u001b[0m\u001b[0m\n",
      "\u001b[0;31mGeocoderTimedOut\u001b[0m: Service timed out"
     ]
    }
   ],
   "source": [
    "geocode('LEED.csv')\n",
    "geocode('CES.csv')"
   ]
  },
  {
   "cell_type": "code",
   "execution_count": null,
   "metadata": {},
   "outputs": [],
   "source": [
    "import csv, json\n",
    "from geojson import Feature, FeatureCollection, Point"
   ]
  },
  {
   "cell_type": "code",
   "execution_count": null,
   "metadata": {},
   "outputs": [],
   "source": [
    "features = []\n",
    "with open('data/coor_LEED.csv', newline='') as csvfile:\n",
    "    reader = csv.reader(csvfile, delimiter=',')\n",
    "    for lat, lon in reader:\n",
    "        lat, lon = map(float, (lat, lon))features.append(\n",
    "            Feature(\n",
    "                geometry = Point((lon, lat)),\n",
    "                properties = {\n",
    "                    'weather': 'weather',\n",
    "                    'temp': 'temp'\n",
    "                }\n",
    "            )\n",
    "        )\n",
    "\n",
    "collection = FeatureCollection(features)\n",
    "with open('data/coor_LEED.geojson', \"w\") as f:\n",
    "    f.write('%s' % collection)"
   ]
  },
  {
   "cell_type": "code",
   "execution_count": null,
   "metadata": {},
   "outputs": [],
   "source": []
  },
  {
   "cell_type": "code",
   "execution_count": null,
   "metadata": {},
   "outputs": [],
   "source": []
  },
  {
   "cell_type": "code",
   "execution_count": null,
   "metadata": {},
   "outputs": [],
   "source": []
  },
  {
   "cell_type": "code",
   "execution_count": null,
   "metadata": {},
   "outputs": [],
   "source": []
  }
 ],
 "metadata": {
  "kernelspec": {
   "display_name": "Python 2",
   "language": "python",
   "name": "python2"
  },
  "language_info": {
   "codemirror_mode": {
    "name": "ipython",
    "version": 2
   },
   "file_extension": ".py",
   "mimetype": "text/x-python",
   "name": "python",
   "nbconvert_exporter": "python",
   "pygments_lexer": "ipython2",
   "version": "2.7.17"
  }
 },
 "nbformat": 4,
 "nbformat_minor": 2
}
