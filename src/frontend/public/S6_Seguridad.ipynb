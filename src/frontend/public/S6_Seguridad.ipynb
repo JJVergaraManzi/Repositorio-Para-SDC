{
 "cells": [
  {
   "cell_type": "markdown",
   "metadata": {},
   "source": [
    "# Section 6: Seguridad "
   ]
  },
  {
   "cell_type": "code",
   "execution_count": 1,
   "metadata": {
    "code_folding": [],
    "scrolled": true
   },
   "outputs": [],
   "source": [
    "# Import Functions to create Json and images\n",
    "from header_fun import *\n",
    "\n",
    "# Naming Functions\n",
    "def naming_image(x):\n",
    "    return global_dir + \"/img/\" + init_data_name + x + '.png'\n",
    "\n",
    "def naming_file(y):\n",
    "    return global_dir + \"/\" + init_data_name + y + '.json'   \n",
    "\n",
    "## Reading Data from API \n",
    "file='seguridad.xlsx'\n",
    "global_dir=\"./data\"\n",
    "norm=False# no normalizada\n",
    "init_data_name=\"Seg_\"\n",
    "link_data = \"https://smartdata-demo.sfo2.digitaloceanspaces.com/data/seguridad.xlsx\"\n",
    "link_img = \"https://smartdata-demo.sfo2.digitaloceanspaces.com/data/img/\"\n",
    "link_glosario=\"https://smartdata-demo.sfo2.digitaloceanspaces.com/data/\"\n",
    "info_header=[ {\"titulo\":None,\"Fuente\":None, \"LinkDatosOriginales\":None, \n",
    "               \"comment\":None, \"linkPlot\":None,\"glosario\":None}]     "
   ]
  },
  {
   "cell_type": "markdown",
   "metadata": {},
   "source": [
    "## Processing Data "
   ]
  },
  {
   "cell_type": "markdown",
   "metadata": {},
   "source": [
    "### 1) Seg_01_Empresas_adherentes.json"
   ]
  },
  {
   "cell_type": "code",
   "execution_count": 2,
   "metadata": {
    "code_folding": [],
    "scrolled": true
   },
   "outputs": [
    {
     "name": "stdout",
     "output_type": "stream",
     "text": [
      "set: None\n"
     ]
    },
    {
     "data": {
      "text/plain": [
       "<Figure size 432x288 with 0 Axes>"
      ]
     },
     "metadata": {},
     "output_type": "display_data"
    },
    {
     "data": {
      "image/png": "[encoded data removed]",
      "text/plain": [
       "<Figure size 432x288 with 1 Axes>"
      ]
     },
     "metadata": {
      "needs_background": "light"
     },
     "output_type": "display_data"
    },
    {
     "name": "stdout",
     "output_type": "stream",
     "text": [
      "CREATED:  ./data/Seg_01_Empresas_adherentes.json\n"
     ]
    }
   ],
   "source": [
    "sheetname = 'Empresas adherentes'\n",
    "full_file_name = '01_Empresas_adherentes'\n",
    "info_header[0][\"titulo\"]=\"Empresas adherentes al Seguro de Ley sobre accidentes o enfermedad profesional\"\n",
    "info_header[0][\"Fuente\"]=\" Superintendencia de Seguridad Social\"\n",
    "info_header[0][\"LinkDatosOriginales\"]=link_data\n",
    "info_header[0][\"comment\"]= \"Empresas adherentes al Seguro de Ley sobre accidentes o enfermedad profesional. Fuente: Superintendencia de Seguridad Social\"\n",
    "info_header[0][\"linkPlot\"] = link_img + init_data_name + full_file_name + \".png\"\n",
    "info_header[0][\"glosario\"] = \"\"\n",
    "\n",
    "if sheetname=='Empresas adherentes':\n",
    "    df = pd.read_excel( file, sheet_name = sheetname)\n",
    "    regiones = [\"Agricultura, ganadería, caza y silvicultura\",\"Pesca\", \"Explotación de minas y canteras\", \"Industrias Manufactureras\", \"Suministro de electricidad, gas y agua\", \"Construcción\",\"Comercio, reparación de vehículos y otros\",\"Hoteles y restaurantes\",\"Transporte, almacenamiento y comunicaciones\",\"Intermediación financiera\", \"Actividades inmobiliarias, empresariales y de alquiler\", \n",
    "                  \"Enseñanza\", \"Servicios sociales y de salud\", \"Otras actividades de servicios comunitarios, sociales y personales\", \"Hogares privados con servicio doméstico\", \"Organizaciones y órganos extraterritoriales\"]\n",
    "    varible_v = [\"Agricultura, ganadería, caza y silvicultura\",\"Pesca\", \"Explotación de minas y canteras\", \"Industrias Manufactureras\", \"Suministro de electricidad, gas y agua\", \"Construcción\",\"Comercio, reparación de vehículos y otros\",\"Hoteles y restaurantes\",\"Transporte, almacenamiento y comunicaciones\",\"Intermediación financiera\", \"Actividades inmobiliarias, empresariales y de alquiler\", \n",
    "                  \"Enseñanza\", \"Servicios sociales y de salud\", \"Otras actividades de servicios comunitarios, sociales y personales\", \"Hogares privados con servicio doméstico\", \"Organizaciones y órganos extraterritoriales\"]\n",
    "    variable_meaning = [\"Agricultura, ganadería, caza y silvicultura\",\"Pesca\", \"Explotación de minas y canteras\", \"Industrias Manufactureras\", \"Suministro de electricidad, gas y agua\", \"Construcción\",\"Comercio, reparación de vehículos y otros\",\"Hoteles y restaurantes\",\"Transporte, almacenamiento y comunicaciones\",\"Intermediación financiera\", \"Actividades inmobiliarias, empresariales y de alquiler\", \n",
    "                 \"Enseñanza\", \"Servicios sociales y de salud\", \"Otras actividades de servicios comunitarios, sociales y personales\", \"Hogares privados con servicio doméstico\", \"Organizaciones y órganos extraterritoriales\"]\n",
    "    reg_name = [\"Agricultura, ganadería, caza y silvicultura\",\"Pesca\", \"Explotación de minas y canteras\", \"Industrias Manufactureras\", \"Suministro de electricidad, gas y agua\", \"Construcción\",\"Comercio, reparación de vehículos y otros\",\"Hoteles y restaurantes\",\"Transporte, almacenamiento y comunicaciones\",\"Intermediación financiera\", \"Actividades inmobiliarias, empresariales y de alquiler\", \n",
    "                 \"Enseñanza\", \"Servicios sociales y de salud\", \"Otras actividades de servicios comunitarios, sociales y personales\", \"Hogares privados con servicio doméstico\", \"Organizaciones y órganos extraterritoriales\"]\n",
    "    toolTip_v = [[\"Part_Agricultura, ganadería, caza y silvicultura\"], [\"Part_Pesca\"], [\"Part_Explotación de minas y canteras\"], [\"Part_Industrias Manufactureras\"], [\"Part_Suministro de electricidad, gas y agua\"],\n",
    "                 [\"Part_Construcción\"], [\"Part_Comercio, reparación de vehículos y otros\"], [\"Part_Hoteles y restaurantes\"],\n",
    "                 [\"Part_Transporte, almacenamiento y comunicaciones\"], [\"Part_Intermediación financiera\"], [\"Part_Actividades inmobiliarias, empresariales y de alquiler\"],\n",
    "                 [\"Part_Enseñanza\"], [\"Part_Servicios sociales y de salud\"], [\"Part_Otras actividades de servicios comunitarios, sociales y personales\"], [\"Part_Hogares privados con servicio doméstico\"], [\"Part_Organizaciones y órganos extraterritoriales\"]]\n",
    "\n",
    "    # Nombre de la variable para Json\n",
    "    toolTip_mening = [[\"% respecto al país\"], [\"% respecto al país\"], [\"% respecto al país\"], [\"% respecto al país\"], [\"% respecto al país\"], [\"% respecto al país\"], [\"% respecto al país\"],\n",
    "                      [\"% respecto al país\"], [\"% respecto al país\"], [\"% respecto al país\"], [\"% respecto al país\"], [\"% respecto al país\"], [\"% respecto al país\"],\n",
    "                      [\"% respecto al país\"], [\"% respecto al país\"], [\"% respecto al país\"], [\"% respecto al país\"]]\n",
    "\n",
    "#    print(df.columns)\n",
    "#    data=[['Construcción','Part_Construcción']]\n",
    "#    dataCorto=[[\"Construccion\",\"Participación\"]]\n",
    "#    for index,lista in enumerate(data):\n",
    "#        toolTip_v=[[]]\n",
    "#        toolTip_mening=[[]]\n",
    "#        reg_name=[\"PAIS\"]\n",
    "#        for index2,varname in enumerate(lista):\n",
    "#            if index2==0:\n",
    "#                varible_v=[varname ]\n",
    "#                variable_meaning=[dataCorto[index][index2]]\n",
    "#            else:\n",
    "#                toolTip_v[0].append(varname)\n",
    "#                toolTip_mening[0].append(dataCorto[index][index2])\n",
    "    \n",
    "    jsonDir = DataToJson(df,varible_v,variable_meaning,reg_name, toolTip_v, toolTip_mening,norm)\n",
    "    jsonDir = [info_header,jsonDir]\n",
    "    jsonUTF8 = json.dumps(jsonDir, ensure_ascii=False).encode('utf8')\n",
    "    jsonUTF8 = json.loads(jsonUTF8)    \n",
    "    create_image(df, varible_v[0], variable_meaning[0],naming_image(full_file_name))\n",
    "    name_file = naming_file(full_file_name)\n",
    "    with open(name_file , 'w') as outfile:  \n",
    "        json.dump(jsonUTF8, outfile,ensure_ascii=False)\n",
    "    print(\"CREATED: \", name_file)     "
   ]
  },
  {
   "cell_type": "markdown",
   "metadata": {},
   "source": [
    "### 2) Seg_02_Trabajadadores_protegidos.json"
   ]
  },
  {
   "cell_type": "code",
   "execution_count": 3,
   "metadata": {
    "code_folding": []
   },
   "outputs": [
    {
     "name": "stdout",
     "output_type": "stream",
     "text": [
      "Index(['anio', 'Mes', 'mesSTR', 'Agricultura, ganadería, caza y silvicultura',\n",
      "       'Pesca', 'Explotación de minas y canteras', 'Industrias Manufactureras',\n",
      "       'Suministro de electricidad, gas y agua', 'Construcción',\n",
      "       'Comercio, reparación de vehículos y otros', 'Hoteles y restaurantes',\n",
      "       'Transporte, almacenamiento y comunicaciones',\n",
      "       'Intermediación financiera',\n",
      "       'Actividades inmobiliarias, empresariales y de alquiler',\n",
      "       'Administración pública y defensa; planes de seguridad social',\n",
      "       'Enseñanza', 'Servicios sociales y de salud',\n",
      "       'Otras actividades de servicios comunitarios, sociales y personales',\n",
      "       'Hogares privados con servicio doméstico',\n",
      "       'Organizaciones y órganos extraterritoriales',\n",
      "       'Part_Agricultura, ganadería, caza y silvicultura', 'Part_Pesca',\n",
      "       'Part_Explotación de minas y canteras',\n",
      "       'Part_Industrias Manufactureras',\n",
      "       'Part_Suministro de electricidad, gas y agua', 'Part_Construcción',\n",
      "       'Part_Comercio, reparación de vehículos y otros',\n",
      "       'Part_Hoteles y restaurantes',\n",
      "       'Part_Transporte, almacenamiento y comunicaciones',\n",
      "       'Part_Intermediación financiera',\n",
      "       'Part_Actividades inmobiliarias, empresariales y de alquiler',\n",
      "       'Part_Administración pública y defensa; planes de seguridad social',\n",
      "       'Part_Enseñanza', 'Part_Servicios sociales y de salud',\n",
      "       'Part_Otras actividades de servicios comunitarios, sociales y personales',\n",
      "       'Part_Hogares privados con servicio doméstico',\n",
      "       'Part_Organizaciones y órganos extraterritoriales'],\n",
      "      dtype='object')\n",
      "set: None\n"
     ]
    },
    {
     "data": {
      "text/plain": [
       "<Figure size 432x288 with 0 Axes>"
      ]
     },
     "metadata": {},
     "output_type": "display_data"
    },
    {
     "data": {
      "image/png": "[encoded data removed]",
      "text/plain": [
       "<Figure size 432x288 with 1 Axes>"
      ]
     },
     "metadata": {},
     "output_type": "display_data"
    },
    {
     "name": "stdout",
     "output_type": "stream",
     "text": [
      "CREATED:  ./data/Seg_02_Trabajadadores_protegidos.json\n"
     ]
    }
   ],
   "source": [
    "sheetname = 'Trabajadadores protegidos'\n",
    "full_file_name = '02_Trabajadadores_protegidos'\n",
    "info_header[0][\"titulo\"]= \"Trabajadores protegidos por el Seguro de Ley sobre accidentes o enfermedad profesional\"\n",
    "info_header[0][\"Fuente\"]=\" Superintendencia de Seguridad Social\"\n",
    "info_header[0][\"LinkDatosOriginales\"]=link_data\n",
    "info_header[0][\"comment\"]= \"Empresas adherentes al Seguro de Ley sobre accidentes o enfermedad profesional. Fuente: Superintendencia de Seguridad Social\"\n",
    "info_header[0][\"linkPlot\"] = link_img + init_data_name + full_file_name + \".png\"\n",
    "info_header[0][\"glosario\"] = \"\"\n",
    "\n",
    "if sheetname=='Trabajadadores protegidos':\n",
    "    df = pd.read_excel( file, sheet_name = sheetname )\n",
    "    regiones = [\"Agricultura, ganadería, caza y silvicultura\",\"Pesca\", \"Explotación de minas y canteras\", \"Industrias Manufactureras\", \"Suministro de electricidad, gas y agua\", \"Construcción\",\"Comercio, reparación de vehículos y otros\",\"Hoteles y restaurantes\",\"Transporte, almacenamiento y comunicaciones\",\"Intermediación financiera\", \"Actividades inmobiliarias, empresariales y de alquiler\", \n",
    "                  \"Enseñanza\", \"Servicios sociales y de salud\", \"Otras actividades de servicios comunitarios, sociales y personales\", \"Hogares privados con servicio doméstico\", \"Organizaciones y órganos extraterritoriales\"]\n",
    "    varible_v = [\"Agricultura, ganadería, caza y silvicultura\",\"Pesca\", \"Explotación de minas y canteras\", \"Industrias Manufactureras\", \"Suministro de electricidad, gas y agua\", \"Construcción\",\"Comercio, reparación de vehículos y otros\",\"Hoteles y restaurantes\",\"Transporte, almacenamiento y comunicaciones\",\"Intermediación financiera\", \"Actividades inmobiliarias, empresariales y de alquiler\", \n",
    "                  \"Enseñanza\", \"Servicios sociales y de salud\", \"Otras actividades de servicios comunitarios, sociales y personales\", \"Hogares privados con servicio doméstico\", \"Organizaciones y órganos extraterritoriales\"]\n",
    "    variable_meaning = [\"Agricultura, ganadería, caza y silvicultura\",\"Pesca\", \"Explotación de minas y canteras\", \"Industrias Manufactureras\", \"Suministro de electricidad, gas y agua\", \"Construcción\",\"Comercio, reparación de vehículos y otros\",\"Hoteles y restaurantes\",\"Transporte, almacenamiento y comunicaciones\",\"Intermediación financiera\", \"Actividades inmobiliarias, empresariales y de alquiler\", \n",
    "                 \"Enseñanza\", \"Servicios sociales y de salud\", \"Otras actividades de servicios comunitarios, sociales y personales\", \"Hogares privados con servicio doméstico\", \"Organizaciones y órganos extraterritoriales\"]\n",
    "    reg_name = [\"Agricultura, ganadería, caza y silvicultura\",\"Pesca\", \"Explotación de minas y canteras\", \"Industrias Manufactureras\", \"Suministro de electricidad, gas y agua\", \"Construcción\",\"Comercio, reparación de vehículos y otros\",\"Hoteles y restaurantes\",\"Transporte, almacenamiento y comunicaciones\",\"Intermediación financiera\", \"Actividades inmobiliarias, empresariales y de alquiler\", \n",
    "                 \"Enseñanza\", \"Servicios sociales y de salud\", \"Otras actividades de servicios comunitarios, sociales y personales\", \"Hogares privados con servicio doméstico\", \"Organizaciones y órganos extraterritoriales\"]\n",
    "    toolTip_v = [[\"Part_Agricultura, ganadería, caza y silvicultura\"], [\"Part_Pesca\"], [\"Part_Explotación de minas y canteras\"], [\"Part_Industrias Manufactureras\"], [\"Part_Suministro de electricidad, gas y agua\"],\n",
    "                 [\"Part_Construcción\"], [\"Part_Comercio, reparación de vehículos y otros\"], [\"Part_Hoteles y restaurantes\"],\n",
    "                 [\"Part_Transporte, almacenamiento y comunicaciones\"], [\"Part_Intermediación financiera\"], [\"Part_Actividades inmobiliarias, empresariales y de alquiler\"],\n",
    "                 [\"Part_Enseñanza\"], [\"Part_Servicios sociales y de salud\"], [\"Part_Otras actividades de servicios comunitarios, sociales y personales\"], [\"Part_Hogares privados con servicio doméstico\"], [\"Part_Organizaciones y órganos extraterritoriales\"]]\n",
    "    # Nombre de la variable para Json\n",
    "    toolTip_mening = [[\"% respecto al país\"], [\"% respecto al país\"], [\"% respecto al país\"], [\"% respecto al país\"], [\"% respecto al país\"], [\"% respecto al país\"], [\"% respecto al país\"],\n",
    "                      [\"% respecto al país\"], [\"% respecto al país\"], [\"% respecto al país\"], [\"% respecto al país\"], [\"% respecto al país\"], [\"% respecto al país\"],\n",
    "                      [\"% respecto al país\"], [\"% respecto al país\"], [\"% respecto al país\"], [\"% respecto al país\"], [\"% respecto al país\"], [\"% respecto al país\"]]    \n",
    "    print(df.columns)\n",
    "#    data=[['Construcción','Part_Construcción']]\n",
    "#    dataCorto=[[\"Construccion\",\"Participación\"]]\n",
    "#    for index,lista in enumerate(data):\n",
    "#        toolTip_v=[[]]\n",
    "#        toolTip_mening=[[]]\n",
    "#        reg_name=[\"PAIS\"]\n",
    "#        for index2,varname in enumerate(lista):\n",
    "#            if index2==0:\n",
    "#                varible_v=[varname ]\n",
    "#                variable_meaning=[dataCorto[index][index2]]\n",
    "#            else:\n",
    "#                toolTip_v[0].append(varname)\n",
    "#                toolTip_mening[0].append(dataCorto[index][index2])\n",
    "    \n",
    "    jsonDir = DataToJson(df,varible_v,variable_meaning,reg_name, toolTip_v, toolTip_mening,norm)\n",
    "#    print(jsonDir)\n",
    "    jsonDir = [info_header,jsonDir]\n",
    "    jsonUTF8 = json.dumps(jsonDir, ensure_ascii=False).encode('utf8')\n",
    "    jsonUTF8 = json.loads(jsonUTF8)    \n",
    "    create_image(df, varible_v[0], variable_meaning[0],naming_image(full_file_name))\n",
    "    name_file = naming_file(full_file_name)\n",
    "    with open(name_file , 'w') as outfile:  \n",
    "        json.dump(jsonUTF8, outfile,ensure_ascii=False)\n",
    "    print(\"CREATED: \", name_file)        "
   ]
  },
  {
   "cell_type": "markdown",
   "metadata": {},
   "source": [
    "### 3) Seg_03_Trabajadadores_protegidos_porRegion.json"
   ]
  },
  {
   "cell_type": "code",
   "execution_count": 8,
   "metadata": {},
   "outputs": [
    {
     "name": "stdout",
     "output_type": "stream",
     "text": [
      "set: None\n"
     ]
    },
    {
     "data": {
      "text/plain": [
       "<Figure size 432x288 with 0 Axes>"
      ]
     },
     "metadata": {},
     "output_type": "display_data"
    },
    {
     "data": {
      "image/png": "[encoded data removed]",
      "text/plain": [
       "<Figure size 432x288 with 1 Axes>"
      ]
     },
     "metadata": {},
     "output_type": "display_data"
    },
    {
     "name": "stdout",
     "output_type": "stream",
     "text": [
      "CREATED:  ./data/Seg_03_Trabajadadores_protegidos_porRegion.json\n"
     ]
    }
   ],
   "source": [
    "sheetname = 'XREGION'\n",
    "full_file_name = '03_Trabajadadores_protegidos_porRegion'\n",
    "info_header[0][\"titulo\"]= \"Trabajadores protegidos por el Seguro de Ley sobre accidentes o enfermedad profesional por región\"\n",
    "info_header[0][\"Fuente\"]=\"Superintendencia de Seguridad Social y pruebita\"\n",
    "info_header[0][\"LinkDatosOriginales\"]=link_data\n",
    "info_header[0][\"comment\"]= \"Trabajadores protegidos por el Seguro de Ley sobre accidentes o enfermedad profesional por región. Fuente Superintendencia de Seguridad Social\"\n",
    "#info_header[0][\"linkPlot\"] = link_img + init_data_name + full_file_name + \".png\"\n",
    "info_header[0][\"glosario\"]=\"\"\n",
    "\n",
    "if sheetname=='XREGION':\n",
    "    df = pd.read_excel( file, sheet_name = sheetname )\n",
    " #   regiones = ['De Arica y Parinacota',\n",
    " #       'De Tarapacá',\n",
    " #       'De Antofagasta',\n",
    " #       'De Atacama',\n",
    " #       'De Coquimbo',\n",
    " #       'De Valparaíso',\n",
    " #       \"Del Libertador Gral. Bdo. O'Higgins\",\n",
    " #       'Del Maule',\n",
    " #       'De Ñuble',\n",
    " #       'Del Biobío',\n",
    " #       'De La Araucanía',\n",
    " #       'De Los Ríos',\n",
    " #       'De Los Lagos',\n",
    " #       'Aysén del Gral. Carlos Ibáñez del Campo',\n",
    " #       'De Magallanes y la Antártica Chilena',\n",
    " #       'Metropolitana de Santiago']\n",
    "   \n",
    "    varible_v = ['De Arica y Parinacota',\n",
    "        'De Tarapacá',\n",
    "        'De Antofagasta',\n",
    "        'De Atacama',\n",
    "        'De Coquimbo',\n",
    "        'De Valparaíso',\n",
    "        \"Del Libertador Gral. Bdo. O'Higgins\",\n",
    "        'Del Maule',\n",
    "        'De Ñuble',\n",
    "        'Del Biobío',\n",
    "        'De La Araucanía',\n",
    "        'De Los Ríos',\n",
    "        'De Los Lagos',\n",
    "        'Aysén del Gral. Carlos Ibáñez del Campo',\n",
    "        'De Magallanes y la Antártica Chilena',\n",
    "        'Metropolitana de Santiago']\n",
    "   \n",
    "    variable_meaning=['Cant trabaj Arica y Parinacota',\n",
    "        'Cant trabaj Tarapacá',\n",
    "        'Cant trabaj Antofagasta',\n",
    "        'Cant trabaj Atacama',\n",
    "        'Cant trabaj Coquimbo',\n",
    "        'Cant trabaj Valparaíso',\n",
    "        \"Cant trabaj Libertador Gral. Bdo. O'Higgins\",\n",
    "        'Cant trabaj del Maule',\n",
    "        'Cant trabaj Ñuble',\n",
    "        'Cant trabaj Biobío',\n",
    "        'Cant trabaj La Araucanía',\n",
    "        'Cant trabaj Los Ríos',\n",
    "        'Cant trabaj Los Lagos',\n",
    "        'Cant trabaj Aysén del Gral. Carlos Ibáñez del Campo',\n",
    "        'Cant trabaj Magallanes y la Antártica Chilena',\n",
    "        'Cant trabaj Metropolitana de Santiago']\n",
    "\n",
    "    #Nombre de la region q uno quiere ver\n",
    "    reg_name=['De Arica y Parinacota',\n",
    "        'De Tarapacá',\n",
    "        'De Antofagasta',\n",
    "        'De Atacama',\n",
    "        'De Coquimbo',\n",
    "        'De Valparaíso',\n",
    "        \"Del Libertador Gral. Bdo. O'Higgins\",\n",
    "        'Del Maule',\n",
    "        'De Ñuble',\n",
    "        'Del Biobío',\n",
    "        'De La Araucanía',\n",
    "        'De Los Ríos',\n",
    "        'De Los Lagos',\n",
    "        'Aysén del Gral. Carlos Ibáñez del Campo',\n",
    "        'De Magallanes y la Antártica Chilena',\n",
    "        'Metropolitana de Santiago']\n",
    "\n",
    "    toolTip_v=[\n",
    "        ['Part_De Arica y Parinacota'],\n",
    "        ['Part_De Tarapacá'],\n",
    "        ['Part_De Antofagasta'],\n",
    "        ['Part_De Atacama'],\n",
    "        ['Part_De Coquimbo'],\n",
    "        ['Part_De Valparaíso'],\n",
    "        [\"Part_Del Libertador Gral. Bdo. O'Higgins\"],\n",
    "        ['Part_Del Maule'],\n",
    "        ['Part_De Ñuble'],\n",
    "        ['Part_Del Biobío'],\n",
    "        ['Part_De La Araucanía'],\n",
    "        ['Part_De Los Ríos'],\n",
    "        ['Part_De Los Lagos'],\n",
    "        ['Part_Aysén del Gral. Carlos Ibáñez del Campo'],\n",
    "        ['Part_De Magallanes y la Antártica Chilena'],\n",
    "        ['Part_Metropolitana de Santiago']]\n",
    "   \n",
    "    toolTip_mening=[[\"Participación\"],[\"Participación\"],[\"Participación\"],[\"Participación\"],\n",
    "                   [\"Participación\"],[\"Participación\"],[\"Participación\"],[\"Participación\"],\n",
    "                   [\"Participación\"],[\"Participación\"],[\"Participación\"],[\"Participación\"],\n",
    "                   [\"Participación\"],[\"Participación\"],[\"Participación\"],[\"Participación\"]]\n",
    "   \n",
    "\n",
    "    jsonDir = DataToJson(df, varible_v, variable_meaning,reg_name, toolTip_v, toolTip_mening, norm)\n",
    "    jsonDir = [info_header, jsonDir]\n",
    "    jsonUTF8 = json.dumps(jsonDir, ensure_ascii=False).encode('utf8')\n",
    "    jsonUTF8 = json.loads(jsonUTF8)    \n",
    "    create_image(df, varible_v[0], variable_meaning[0],naming_image(full_file_name))\n",
    "    name_file = naming_file(full_file_name)\n",
    "    with open(name_file , 'w') as outfile:  \n",
    "        json.dump(jsonUTF8, outfile,ensure_ascii=False)\n",
    "    print(\"CREATED: \", name_file) "
   ]
  },
  {
   "cell_type": "markdown",
   "metadata": {},
   "source": [
    "### 3) Seg_03_Trabajadadores_protegidos_porRegion.json"
   ]
  },
  {
   "cell_type": "code",
   "execution_count": 5,
   "metadata": {
    "code_folding": []
   },
   "outputs": [
    {
     "data": {
      "text/plain": [
       "'\\nsheetname = \\'XREGION\\'\\nfull_file_name = \\'03_Trabajadadores_protegidos_porRegion\\'\\ninfo_header[0][\"titulo\"]= \"Trabajadores protegidos por el Seguro de Ley sobre accidentes o enfermedad profesional por región\"\\ninfo_header[0][\"Fuente\"]=\"Superintendencia de Seguridad Social\"\\ninfo_header[0][\"LinkDatosOriginales\"]=link_data\\ninfo_header[0][\"comment\"]= \"Trabajadores protegidos por el Seguro de Ley sobre accidentes o enfermedad profesional por región. Fuente Superintendencia de Seguridad Social\"\\ninfo_header[0][\"linkPlot\"] = link_img + init_data_name + full_file_name + \".png\"\\ninfo_header[0][\"glosario\"]=\"\"\\n\\nif sheetname==\\'XREGION\\':\\n    df = pd.read_excel( file, sheet_name = sheetname )\\n    varible_v=[ \\'De Arica y Parinacota\\',\\n        \\'De Tarapacá\\',\\n        \\'De Antofagasta\\',\\n        \\'De Atacama\\',\\n        \\'De Coquimbo\\',\\n        \\'De Valparaíso\\',\\n        \"Del Libertador Gral. Bdo. O\\'Higgins\",\\n        \\'Del Maule\\',\\n        \\'De Ñuble\\',\\n        \\'Del Biobío\\',\\n        \\'De La Araucanía\\',\\n        \\'De Los Ríos\\',\\n        \\'De Los Lagos\\',\\n        \\'Aysén del Gral. Carlos Ibáñez del Campo\\',\\n        \\'De Magallanes y la Antártica Chilena\\',\\t\\'Metropolitana de Santiago\\'\\n    ]\\n    variable_meaning=[\"Trabajadores\",\"Trabajadores\",\"Trabajadores\",\"Trabajadores\",\\n                      \"Trabajadores\",\"Trabajadores\",\"Trabajadores\",\\n                      \"Trabajadores\",\"Trabajadores\",\"Trabajadores\",\"Trabajadores\",\\n                      \"Trabajadores\",\"Trabajadores\",\"Trabajadores\",\"Trabajadores\",\\n                      \"Trabajadores\",\"Trabajadores\",\"Trabajadores\",\\n                      \"Trabajadores\",\"Trabajadores\",\"Trabajadores\"\\n    ]\\n\\n    #Nombre de la region \\n    reg_name=[ \\'De Arica y Parinacota\\',\\n        \\'De Tarapacá\\',\\n        \\'De Antofagasta\\',\\n        \\'De Atacama\\',\\n        \\'De Coquimbo\\',\\n        \\'De Valparaíso\\',\\n        \"Del Libertador Gral. Bdo. O\\'Higgins\",\\n        \\'Del Maule\\',\\n        \\'De Ñuble\\',\\n        \\'Del Biobío\\',\\n        \\'De La Araucanía\\',\\n        \\'De Los Ríos\\',\\n        \\'De Los Lagos\\',\\n        \\'Aysén del Gral. Carlos Ibáñez del Campo\\',\\n        \\'De Magallanes y la Antártica Chilena\\',\\t\\'Metropolitana de Santiago\\'\\n    ]\\n\\n    toolTip_v=[\\n        [\\'Part_De Arica y Parinacota\\'],\\n        [\\'Part_De Tarapacá\\'],\\n        [\\'Part_De Antofagasta\\'],\\n        [\\'Part_De Atacama\\'],\\n        [\\'Part_De Coquimbo\\'],\\n        [\\'Part_De Valparaíso\\'],\\n        [\"Part_Del Libertador Gral. Bdo. O\\'Higgins\"],\\n        [\\'Part_Del Maule\\'],\\n        [\\'Part_De Ñuble\\'],\\n        [\\'Part_Del Biobío\\'],\\n        [\\'Part_De La Araucanía\\'],\\n        [\\'Part_De Los Ríos\\'],\\n        [\\'Part_De Los Lagos\\'],\\n        [\\'Part_Aysén del Gral. Carlos Ibáñez del Campo\\'],\\n        [\\'Part_De Magallanes y la Antártica Chilena\\'],\\n        [\\'Part_Metropolitana de Santiago\\']\\n    ]\\n    \\n    toolTip_mening=[[\"Participación\"],[\"Participación\"],[\"Participación\"],[\"Participación\"],\\n                   [\"Participación\"],[\"Participación\"],[\"Participación\"],[\"Participación\"],\\n                   [\"Participación\"],[\"Participación\"],[\"Participación\"],[\"Participación\"],\\n                   [\"Participación\"],[\"Participación\"],[\"Participación\"],[\"Participación\"],\\n                   [\"Participación\"],[\"Participación\"],[\"Participación\"],[\"Participación\"]\\n    ]\\n    \\n\\n    jsonDir = DataToJson(df,varible_v,variable_meaning,reg_name, toolTip_v, toolTip_mening)\\n    jsonDir = [info_header,jsonDir]\\n    jsonUTF8 = json.dumps(jsonDir, ensure_ascii=False).encode(\\'utf8\\')\\n    jsonUTF8 = json.loads(jsonUTF8)    \\n    create_image(df, varible_v[0], variable_meaning[0],naming_image(full_file_name))\\n    name_file = naming_file(full_file_name)\\n    with open(name_file , \\'w\\') as outfile:  \\n        json.dump(jsonUTF8, outfile,ensure_ascii=False)\\n    print(\"CREATED: \", name_file)\\n'"
      ]
     },
     "execution_count": 5,
     "metadata": {},
     "output_type": "execute_result"
    }
   ],
   "source": [
    "'''\n",
    "sheetname = 'XREGION'\n",
    "full_file_name = '03_Trabajadadores_protegidos_porRegion'\n",
    "info_header[0][\"titulo\"]= \"Trabajadores protegidos por el Seguro de Ley sobre accidentes o enfermedad profesional por región\"\n",
    "info_header[0][\"Fuente\"]=\"Superintendencia de Seguridad Social\"\n",
    "info_header[0][\"LinkDatosOriginales\"]=link_data\n",
    "info_header[0][\"comment\"]= \"Trabajadores protegidos por el Seguro de Ley sobre accidentes o enfermedad profesional por región. Fuente Superintendencia de Seguridad Social\"\n",
    "info_header[0][\"linkPlot\"] = link_img + init_data_name + full_file_name + \".png\"\n",
    "info_header[0][\"glosario\"]=\"\"\n",
    "\n",
    "if sheetname=='XREGION':\n",
    "    df = pd.read_excel( file, sheet_name = sheetname )\n",
    "    varible_v=[ 'De Arica y Parinacota',\n",
    "        'De Tarapacá',\n",
    "        'De Antofagasta',\n",
    "        'De Atacama',\n",
    "        'De Coquimbo',\n",
    "        'De Valparaíso',\n",
    "        \"Del Libertador Gral. Bdo. O'Higgins\",\n",
    "        'Del Maule',\n",
    "        'De Ñuble',\n",
    "        'Del Biobío',\n",
    "        'De La Araucanía',\n",
    "        'De Los Ríos',\n",
    "        'De Los Lagos',\n",
    "        'Aysén del Gral. Carlos Ibáñez del Campo',\n",
    "        'De Magallanes y la Antártica Chilena',\t'Metropolitana de Santiago'\n",
    "    ]\n",
    "    variable_meaning=[\"Trabajadores\",\"Trabajadores\",\"Trabajadores\",\"Trabajadores\",\n",
    "                      \"Trabajadores\",\"Trabajadores\",\"Trabajadores\",\n",
    "                      \"Trabajadores\",\"Trabajadores\",\"Trabajadores\",\"Trabajadores\",\n",
    "                      \"Trabajadores\",\"Trabajadores\",\"Trabajadores\",\"Trabajadores\",\n",
    "                      \"Trabajadores\",\"Trabajadores\",\"Trabajadores\",\n",
    "                      \"Trabajadores\",\"Trabajadores\",\"Trabajadores\"\n",
    "    ]\n",
    "\n",
    "    #Nombre de la region \n",
    "    reg_name=[ 'De Arica y Parinacota',\n",
    "        'De Tarapacá',\n",
    "        'De Antofagasta',\n",
    "        'De Atacama',\n",
    "        'De Coquimbo',\n",
    "        'De Valparaíso',\n",
    "        \"Del Libertador Gral. Bdo. O'Higgins\",\n",
    "        'Del Maule',\n",
    "        'De Ñuble',\n",
    "        'Del Biobío',\n",
    "        'De La Araucanía',\n",
    "        'De Los Ríos',\n",
    "        'De Los Lagos',\n",
    "        'Aysén del Gral. Carlos Ibáñez del Campo',\n",
    "        'De Magallanes y la Antártica Chilena',\t'Metropolitana de Santiago'\n",
    "    ]\n",
    "\n",
    "    toolTip_v=[\n",
    "        ['Part_De Arica y Parinacota'],\n",
    "        ['Part_De Tarapacá'],\n",
    "        ['Part_De Antofagasta'],\n",
    "        ['Part_De Atacama'],\n",
    "        ['Part_De Coquimbo'],\n",
    "        ['Part_De Valparaíso'],\n",
    "        [\"Part_Del Libertador Gral. Bdo. O'Higgins\"],\n",
    "        ['Part_Del Maule'],\n",
    "        ['Part_De Ñuble'],\n",
    "        ['Part_Del Biobío'],\n",
    "        ['Part_De La Araucanía'],\n",
    "        ['Part_De Los Ríos'],\n",
    "        ['Part_De Los Lagos'],\n",
    "        ['Part_Aysén del Gral. Carlos Ibáñez del Campo'],\n",
    "        ['Part_De Magallanes y la Antártica Chilena'],\n",
    "        ['Part_Metropolitana de Santiago']\n",
    "    ]\n",
    "    \n",
    "    toolTip_mening=[[\"Participación\"],[\"Participación\"],[\"Participación\"],[\"Participación\"],\n",
    "                   [\"Participación\"],[\"Participación\"],[\"Participación\"],[\"Participación\"],\n",
    "                   [\"Participación\"],[\"Participación\"],[\"Participación\"],[\"Participación\"],\n",
    "                   [\"Participación\"],[\"Participación\"],[\"Participación\"],[\"Participación\"],\n",
    "                   [\"Participación\"],[\"Participación\"],[\"Participación\"],[\"Participación\"]\n",
    "    ]\n",
    "    \n",
    "\n",
    "    jsonDir = DataToJson(df,varible_v,variable_meaning,reg_name, toolTip_v, toolTip_mening)\n",
    "    jsonDir = [info_header,jsonDir]\n",
    "    jsonUTF8 = json.dumps(jsonDir, ensure_ascii=False).encode('utf8')\n",
    "    jsonUTF8 = json.loads(jsonUTF8)    \n",
    "    create_image(df, varible_v[0], variable_meaning[0],naming_image(full_file_name))\n",
    "    name_file = naming_file(full_file_name)\n",
    "    with open(name_file , 'w') as outfile:  \n",
    "        json.dump(jsonUTF8, outfile,ensure_ascii=False)\n",
    "    print(\"CREATED: \", name_file)\n",
    "'''\n"
   ]
  },
  {
   "cell_type": "markdown",
   "metadata": {},
   "source": [
    "### 4) Seg_04_Tasa_Accidentes.json"
   ]
  },
  {
   "cell_type": "code",
   "execution_count": 6,
   "metadata": {
    "code_folding": []
   },
   "outputs": [
    {
     "name": "stdout",
     "output_type": "stream",
     "text": [
      "set: None\n",
      "CREATED:  ./data/Seg_04_Tasa_Accidentes.json\n"
     ]
    }
   ],
   "source": [
    "sheetname =\"Accidentabilidad2\"\n",
    "full_file_name = '04_Tasa_Accidentes'\n",
    "info_header[0][\"titulo\"] = \"Cant. de Accidentes, Tasa de accidentabilidad y Tasa de mortalidad\"\n",
    "info_header[0][\"Fuente\"] = \"Superintendencia de Seguridad Social\"\n",
    "info_header[0][\"LinkDatosOriginales\"] = link_data\n",
    "info_header[0][\"comment\"] = \"Los accidentes, enfermedades y tasas de accidentabilidad están sólo disponibles para trabajadores protegidos por Mutuales, sin contabilizar el ISL (Instituto de Seguridad Laboral). Tasa de mortalidad es sólo por acc. del trabajo y corresponde al Nº de fallecidos por acc. del trabajo dividido por el Nº de trabajadores protegidos, por cada 100.000 trabajadores. Fuente: Superintendencia de Seguridad Social\"\n",
    "info_header[0][\"linkPlot\"] = link_img + init_data_name + full_file_name + \".png\"\n",
    "info_header[0][\"glosario\"] = \"\"\n",
    "\n",
    "if sheetname=='Accidentabilidad2':\n",
    "    df = pd.read_excel( file, sheet_name = sheetname )\n",
    "    varible_v = [\"Accidentes del Trabajo\",'Accidentes del Trayecto',\"Total Accidentes\",\n",
    "                 'Enfermedades Profesionales']\n",
    "    variable_meaning = [\"Accidentes del Trabajo\",'Accidentes del Trayecto',\n",
    "                 \"Total Accidentes\",'Enfermedades Profesionales']\n",
    "    reg_name = [\"Accidentes del Trabajo\",'Accidentes del Trayecto',\"Total Accidentes\",\n",
    "                 'Enfermedades Profesionales']\n",
    "    toolTip_v = [[\"Tasa accidentabilidad Trabajo\"],\n",
    "                 ['Tasa accidentabilidad Trayecto'],\n",
    "                 [\"Tasa mortalidad\"],\n",
    "                 []]\n",
    "    toolTip_mening =[[\"Tasa accidentabilidad Trabajo\"],\n",
    "                 ['Tasa accidentabilidad Trayecto'],\n",
    "                 [\"Tasa mortalidad\"],\n",
    "                 []]\n",
    "    \n",
    "    # if sheetname == \"Accidentabilidad2\":\n",
    "#    df = pd.read_excel(file, sheet_name=sheetname)\n",
    "#    data = [[\"Tasa acc\"]]\n",
    "#    dataCorto = [[\"Tasa acc\"]]\n",
    "#    for index, lista in enumerate(data):\n",
    "#        toolTip_v = [[]]\n",
    "#        toolTip_mening = [[]]\n",
    "#        reg_name = [\"PAIS\"]\n",
    "#        for index2, varname in enumerate(lista):\n",
    "#            if index2 == 0:\n",
    "#                varible_v = [varname]\n",
    "#                variable_meaning = [dataCorto[index][index2]]\n",
    "#            else:\n",
    "#                toolTip_v[0].append(varname)\n",
    "#                toolTip_mening[0].append(dataCorto[index][index2])\n",
    "                \n",
    "    jsonDir = DataToJson(df, varible_v, variable_meaning,reg_name, toolTip_v, toolTip_mening)\n",
    "    jsonDir = [info_header, jsonDir]\n",
    "    jsonUTF8 = json.dumps(jsonDir, ensure_ascii=False).encode('utf8')\n",
    "    jsonUTF8 = json.loads(jsonUTF8)    \n",
    "  #  create_image(df, varible_v[0], variable_meaning[0],naming_image(full_file_name))\n",
    "    name_file = naming_file(full_file_name)\n",
    "    with open(name_file , 'w') as outfile:  \n",
    "        json.dump(jsonUTF8, outfile,ensure_ascii=False)\n",
    "    print(\"CREATED: \", name_file)"
   ]
  }
 ],
 "metadata": {
  "kernelspec": {
   "display_name": "Python 3",
   "language": "python",
   "name": "python3"
  },
  "language_info": {
   "codemirror_mode": {
    "name": "ipython",
    "version": 3
   },
   "file_extension": ".py",
   "mimetype": "text/x-python",
   "name": "python",
   "nbconvert_exporter": "python",
   "pygments_lexer": "ipython3",
   "version": "3.7.4"
  }
 },
 "nbformat": 4,
 "nbformat_minor": 4
}
