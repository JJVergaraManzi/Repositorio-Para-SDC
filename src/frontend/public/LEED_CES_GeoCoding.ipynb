{
 "cells": [
  {
   "cell_type": "code",
   "execution_count": 3,
   "metadata": {},
   "outputs": [
    {
     "ename": "ModuleNotFoundError",
     "evalue": "No module named 'geopy'",
     "output_type": "error",
     "traceback": [
      "\u001b[1;31m---------------------------------------------------------------------------\u001b[0m",
      "\u001b[1;31mModuleNotFoundError\u001b[0m                       Traceback (most recent call last)",
      "\u001b[1;32m<ipython-input-3-9690402dd9a6>\u001b[0m in \u001b[0;36m<module>\u001b[1;34m\u001b[0m\n\u001b[0;32m      1\u001b[0m \u001b[1;31m#!/usr/bin/env python3\u001b[0m\u001b[1;33m\u001b[0m\u001b[1;33m\u001b[0m\u001b[1;33m\u001b[0m\u001b[0m\n\u001b[0;32m      2\u001b[0m \u001b[1;32mimport\u001b[0m \u001b[0mpandas\u001b[0m \u001b[1;32mas\u001b[0m \u001b[0mpd\u001b[0m\u001b[1;33m\u001b[0m\u001b[1;33m\u001b[0m\u001b[0m\n\u001b[1;32m----> 3\u001b[1;33m \u001b[1;32mfrom\u001b[0m \u001b[0mgeopy\u001b[0m\u001b[1;33m.\u001b[0m\u001b[0mgeocoders\u001b[0m \u001b[1;32mimport\u001b[0m \u001b[0mBing\u001b[0m\u001b[1;33m\u001b[0m\u001b[1;33m\u001b[0m\u001b[0m\n\u001b[0m\u001b[0;32m      4\u001b[0m \u001b[1;32mimport\u001b[0m \u001b[0mcsv\u001b[0m\u001b[1;33m\u001b[0m\u001b[1;33m\u001b[0m\u001b[0m\n\u001b[0;32m      5\u001b[0m \u001b[1;32mimport\u001b[0m \u001b[0mjson\u001b[0m\u001b[1;33m\u001b[0m\u001b[1;33m\u001b[0m\u001b[0m\n",
      "\u001b[1;31mModuleNotFoundError\u001b[0m: No module named 'geopy'"
     ]
    }
   ],
   "source": [
    "#!/usr/bin/env python3\n",
    "import pandas as pd\n",
    "from geopy.geocoders import Bing\n",
    "import csv  \n",
    "import json   \n",
    "import warnings\n",
    "warnings.filterwarnings('ignore')\n",
    "bing_key = 'ginITT5ALcrOnA4aMoH0~_vGQBu-_tnKr6FYRj6U5nA~Ar9conblprRVoeaB4uH4PKMzcs0BfrUJ5LbspSyDn04UqCpCOfsm567DJjUw-PY6'"
   ]
  },
  {
   "cell_type": "code",
   "execution_count": 5,
   "metadata": {},
   "outputs": [],
   "source": [
    "def get_geocode(row):\n",
    "    geolocator = Bing(bing_key, timeout=7)\n",
    "    location = geolocator.geocode(row)\n",
    "    if location is None:\n",
    "        print(\"NOT FOUND\")\n",
    "        return \"NOT FOUND\"\n",
    "    else:\n",
    "        if location.raw[\"address\"][\"countryRegion\"] == \"Chile\":\n",
    "            r = str(location.latitude) + \", \" + str(location.longitude)\n",
    "            print(r)\n",
    "            return r\n",
    "        else:\n",
    "            print(\"MISFORMED\")\n",
    "            return \"MISFORMED\"\n",
    "        \n",
    "def geocode(tabla):\n",
    "    if(tabla == 'LEED.csv'):\n",
    "        a = pd.read_csv(tabla,sep=',')\n",
    "        b = a.copy()\n",
    "\n",
    "        c = b[(b['ProjectName'] != 'Confidential') & (b['Street'].notnull()) & (b['Country'] == 'CL')]\n",
    "\n",
    "        c['Pais'] = 'Chile'\n",
    "        c['direccion'] = c[['Street', 'City', 'State', 'Pais']].apply(lambda x: ', '.join(x), axis=1)    \n",
    "        # Geocoding #\n",
    "        c['Coordenadas'] = c['direccion'].apply(get_geocode)\n",
    "\n",
    "        # Lat and Lon\n",
    "        lat = lambda row: row.split(',')[0].strip()\n",
    "        lon = lambda row: row.split(',')[-1].strip()\n",
    "        c['lat'] = c['Coordenadas'].map(lat)\n",
    "        c['lon'] = c['Coordenadas'].map(lon)\n",
    "        c.drop(labels=['Coordenadas'],axis=1,inplace=True)\n",
    "\n",
    "        # Save to CSV\n",
    "        n = 'data/coor_' + tabla.split('.')[0] + '.csv'\n",
    "        c.to_csv(n, sep=',', encoding='utf-8')\n",
    "        print(tabla + ' Done! ')\n",
    "        \n",
    "    elif(tabla == 'CES.csv'):\n",
    "        a = pd.read_csv(tabla,sep=',')\n",
    "        b = a.copy()\n",
    "        c = b[(b['Dirección'].notnull())]\n",
    "        c['Pais'] = 'Chile'\n",
    "        c['direccion'] = c[['Dirección', 'Comuna', 'UBICACION', 'Pais']].apply(lambda x: ', '.join(x), axis=1)\n",
    "        \n",
    "        # Geocoding #\n",
    "        c['Coordenadas'] = c['direccion'].apply(get_geocode)\n",
    "\n",
    "        # Lat and Lon\n",
    "        lat = lambda row: row.split(',')[0].strip()\n",
    "        lon = lambda row: row.split(',')[-1].strip()\n",
    "        c['lat'] = c['Coordenadas'].map(lat)\n",
    "        c['lon'] = c['Coordenadas'].map(lon)\n",
    "        c.drop(labels=['Coordenadas'],axis=1,inplace=True)\n",
    "\n",
    "        # Save to CSV\n",
    "        n = 'data/coor_' + tabla.split('.')[0] + '.csv'\n",
    "        c.to_csv(n, sep=',', encoding='utf-8')\n",
    "        print(tabla + ' Done! ')  \n",
    "        \n",
    "#     # Open the CSV  \n",
    "#     f = open(n, 'rU')  \n",
    "#     # Change each fieldname to the appropriate field name. I know, so difficult.  \n",
    "#     reader = csv.DictReader(f, fieldnames = ('ID','Isconfidential','ProjectName','Street','City','State','Zipcode','Country','LEEDSystemVersionDisplayName','Sistema','PointsAchieved','CertLevel','CertDate','Mes certificación','Año' 'certificación','IsCertified','OwnerTypes','GrossSqFoot','mt2','TotalPropArea','ProjectTypes','Categoría','OwnerOrganization','RegistrationDate','Mes registro','Año registro','Pais','direccion','lat','lon'))  \n",
    "    \n",
    "#     # Parse the CSV into JSON  \n",
    "#     out = json.dumps( [ row for row in reader ] )  \n",
    "#     print(\"JSON parsed!\")  \n",
    "    \n",
    "#     # Save the JSON  \n",
    "#     f = open('leed.json', 'w')  \n",
    "#     f.write(out)  \n",
    "    \n",
    "#     print(\"JSON saved!\") "
   ]
  },
  {
   "cell_type": "code",
   "execution_count": 6,
   "metadata": {},
   "outputs": [
    {
     "name": "stdout",
     "output_type": "stream",
     "text": [
      "ubicaciones LEED\n"
     ]
    },
    {
     "name": "stderr",
     "output_type": "stream",
     "text": [
      "C:\\ProgramData\\Anaconda3\\lib\\site-packages\\ipykernel_launcher.py:23: SettingWithCopyWarning: \n",
      "A value is trying to be set on a copy of a slice from a DataFrame.\n",
      "Try using .loc[row_indexer,col_indexer] = value instead\n",
      "\n",
      "See the caveats in the documentation: http://pandas.pydata.org/pandas-docs/stable/user_guide/indexing.html#returning-a-view-versus-a-copy\n",
      "C:\\ProgramData\\Anaconda3\\lib\\site-packages\\ipykernel_launcher.py:24: SettingWithCopyWarning: \n",
      "A value is trying to be set on a copy of a slice from a DataFrame.\n",
      "Try using .loc[row_indexer,col_indexer] = value instead\n",
      "\n",
      "See the caveats in the documentation: http://pandas.pydata.org/pandas-docs/stable/user_guide/indexing.html#returning-a-view-versus-a-copy\n"
     ]
    },
    {
     "ename": "NameError",
     "evalue": "name 'Bing' is not defined",
     "output_type": "error",
     "traceback": [
      "\u001b[1;31m---------------------------------------------------------------------------\u001b[0m",
      "\u001b[1;31mNameError\u001b[0m                                 Traceback (most recent call last)",
      "\u001b[1;32m<ipython-input-6-7c7e1420a11f>\u001b[0m in \u001b[0;36m<module>\u001b[1;34m\u001b[0m\n\u001b[0;32m      1\u001b[0m \u001b[0mprint\u001b[0m\u001b[1;33m(\u001b[0m\u001b[1;34m\"ubicaciones LEED\"\u001b[0m\u001b[1;33m)\u001b[0m\u001b[1;33m\u001b[0m\u001b[1;33m\u001b[0m\u001b[0m\n\u001b[1;32m----> 2\u001b[1;33m \u001b[0mgeocode\u001b[0m\u001b[1;33m(\u001b[0m\u001b[1;34m'LEED.csv'\u001b[0m\u001b[1;33m)\u001b[0m\u001b[1;33m\u001b[0m\u001b[1;33m\u001b[0m\u001b[0m\n\u001b[0m\u001b[0;32m      3\u001b[0m \u001b[1;33m\u001b[0m\u001b[0m\n\u001b[0;32m      4\u001b[0m \u001b[0mprint\u001b[0m \u001b[1;33m(\u001b[0m\u001b[1;34m\"ubicaciones CES\"\u001b[0m\u001b[1;33m)\u001b[0m\u001b[1;33m\u001b[0m\u001b[1;33m\u001b[0m\u001b[0m\n\u001b[0;32m      5\u001b[0m \u001b[0mgeocode\u001b[0m\u001b[1;33m(\u001b[0m\u001b[1;34m'CES.csv'\u001b[0m\u001b[1;33m)\u001b[0m\u001b[1;33m\u001b[0m\u001b[1;33m\u001b[0m\u001b[0m\n",
      "\u001b[1;32m<ipython-input-5-bbb9352b9637>\u001b[0m in \u001b[0;36mgeocode\u001b[1;34m(tabla)\u001b[0m\n\u001b[0;32m     24\u001b[0m         \u001b[0mc\u001b[0m\u001b[1;33m[\u001b[0m\u001b[1;34m'direccion'\u001b[0m\u001b[1;33m]\u001b[0m \u001b[1;33m=\u001b[0m \u001b[0mc\u001b[0m\u001b[1;33m[\u001b[0m\u001b[1;33m[\u001b[0m\u001b[1;34m'Street'\u001b[0m\u001b[1;33m,\u001b[0m \u001b[1;34m'City'\u001b[0m\u001b[1;33m,\u001b[0m \u001b[1;34m'State'\u001b[0m\u001b[1;33m,\u001b[0m \u001b[1;34m'Pais'\u001b[0m\u001b[1;33m]\u001b[0m\u001b[1;33m]\u001b[0m\u001b[1;33m.\u001b[0m\u001b[0mapply\u001b[0m\u001b[1;33m(\u001b[0m\u001b[1;32mlambda\u001b[0m \u001b[0mx\u001b[0m\u001b[1;33m:\u001b[0m \u001b[1;34m', '\u001b[0m\u001b[1;33m.\u001b[0m\u001b[0mjoin\u001b[0m\u001b[1;33m(\u001b[0m\u001b[0mx\u001b[0m\u001b[1;33m)\u001b[0m\u001b[1;33m,\u001b[0m \u001b[0maxis\u001b[0m\u001b[1;33m=\u001b[0m\u001b[1;36m1\u001b[0m\u001b[1;33m)\u001b[0m\u001b[1;33m\u001b[0m\u001b[1;33m\u001b[0m\u001b[0m\n\u001b[0;32m     25\u001b[0m         \u001b[1;31m# Geocoding #\u001b[0m\u001b[1;33m\u001b[0m\u001b[1;33m\u001b[0m\u001b[1;33m\u001b[0m\u001b[0m\n\u001b[1;32m---> 26\u001b[1;33m         \u001b[0mc\u001b[0m\u001b[1;33m[\u001b[0m\u001b[1;34m'Coordenadas'\u001b[0m\u001b[1;33m]\u001b[0m \u001b[1;33m=\u001b[0m \u001b[0mc\u001b[0m\u001b[1;33m[\u001b[0m\u001b[1;34m'direccion'\u001b[0m\u001b[1;33m]\u001b[0m\u001b[1;33m.\u001b[0m\u001b[0mapply\u001b[0m\u001b[1;33m(\u001b[0m\u001b[0mget_geocode\u001b[0m\u001b[1;33m)\u001b[0m\u001b[1;33m\u001b[0m\u001b[1;33m\u001b[0m\u001b[0m\n\u001b[0m\u001b[0;32m     27\u001b[0m \u001b[1;33m\u001b[0m\u001b[0m\n\u001b[0;32m     28\u001b[0m         \u001b[1;31m# Lat and Lon\u001b[0m\u001b[1;33m\u001b[0m\u001b[1;33m\u001b[0m\u001b[1;33m\u001b[0m\u001b[0m\n",
      "\u001b[1;32mC:\\ProgramData\\Anaconda3\\lib\\site-packages\\pandas\\core\\series.py\u001b[0m in \u001b[0;36mapply\u001b[1;34m(self, func, convert_dtype, args, **kwds)\u001b[0m\n\u001b[0;32m   4040\u001b[0m             \u001b[1;32melse\u001b[0m\u001b[1;33m:\u001b[0m\u001b[1;33m\u001b[0m\u001b[1;33m\u001b[0m\u001b[0m\n\u001b[0;32m   4041\u001b[0m                 \u001b[0mvalues\u001b[0m \u001b[1;33m=\u001b[0m \u001b[0mself\u001b[0m\u001b[1;33m.\u001b[0m\u001b[0mastype\u001b[0m\u001b[1;33m(\u001b[0m\u001b[0mobject\u001b[0m\u001b[1;33m)\u001b[0m\u001b[1;33m.\u001b[0m\u001b[0mvalues\u001b[0m\u001b[1;33m\u001b[0m\u001b[1;33m\u001b[0m\u001b[0m\n\u001b[1;32m-> 4042\u001b[1;33m                 \u001b[0mmapped\u001b[0m \u001b[1;33m=\u001b[0m \u001b[0mlib\u001b[0m\u001b[1;33m.\u001b[0m\u001b[0mmap_infer\u001b[0m\u001b[1;33m(\u001b[0m\u001b[0mvalues\u001b[0m\u001b[1;33m,\u001b[0m \u001b[0mf\u001b[0m\u001b[1;33m,\u001b[0m \u001b[0mconvert\u001b[0m\u001b[1;33m=\u001b[0m\u001b[0mconvert_dtype\u001b[0m\u001b[1;33m)\u001b[0m\u001b[1;33m\u001b[0m\u001b[1;33m\u001b[0m\u001b[0m\n\u001b[0m\u001b[0;32m   4043\u001b[0m \u001b[1;33m\u001b[0m\u001b[0m\n\u001b[0;32m   4044\u001b[0m         \u001b[1;32mif\u001b[0m \u001b[0mlen\u001b[0m\u001b[1;33m(\u001b[0m\u001b[0mmapped\u001b[0m\u001b[1;33m)\u001b[0m \u001b[1;32mand\u001b[0m \u001b[0misinstance\u001b[0m\u001b[1;33m(\u001b[0m\u001b[0mmapped\u001b[0m\u001b[1;33m[\u001b[0m\u001b[1;36m0\u001b[0m\u001b[1;33m]\u001b[0m\u001b[1;33m,\u001b[0m \u001b[0mSeries\u001b[0m\u001b[1;33m)\u001b[0m\u001b[1;33m:\u001b[0m\u001b[1;33m\u001b[0m\u001b[1;33m\u001b[0m\u001b[0m\n",
      "\u001b[1;32mpandas\\_libs\\lib.pyx\u001b[0m in \u001b[0;36mpandas._libs.lib.map_infer\u001b[1;34m()\u001b[0m\n",
      "\u001b[1;32m<ipython-input-5-bbb9352b9637>\u001b[0m in \u001b[0;36mget_geocode\u001b[1;34m(row)\u001b[0m\n\u001b[0;32m      1\u001b[0m \u001b[1;32mdef\u001b[0m \u001b[0mget_geocode\u001b[0m\u001b[1;33m(\u001b[0m\u001b[0mrow\u001b[0m\u001b[1;33m)\u001b[0m\u001b[1;33m:\u001b[0m\u001b[1;33m\u001b[0m\u001b[1;33m\u001b[0m\u001b[0m\n\u001b[1;32m----> 2\u001b[1;33m     \u001b[0mgeolocator\u001b[0m \u001b[1;33m=\u001b[0m \u001b[0mBing\u001b[0m\u001b[1;33m(\u001b[0m\u001b[0mbing_key\u001b[0m\u001b[1;33m,\u001b[0m \u001b[0mtimeout\u001b[0m\u001b[1;33m=\u001b[0m\u001b[1;36m7\u001b[0m\u001b[1;33m)\u001b[0m\u001b[1;33m\u001b[0m\u001b[1;33m\u001b[0m\u001b[0m\n\u001b[0m\u001b[0;32m      3\u001b[0m     \u001b[0mlocation\u001b[0m \u001b[1;33m=\u001b[0m \u001b[0mgeolocator\u001b[0m\u001b[1;33m.\u001b[0m\u001b[0mgeocode\u001b[0m\u001b[1;33m(\u001b[0m\u001b[0mrow\u001b[0m\u001b[1;33m)\u001b[0m\u001b[1;33m\u001b[0m\u001b[1;33m\u001b[0m\u001b[0m\n\u001b[0;32m      4\u001b[0m     \u001b[1;32mif\u001b[0m \u001b[0mlocation\u001b[0m \u001b[1;32mis\u001b[0m \u001b[1;32mNone\u001b[0m\u001b[1;33m:\u001b[0m\u001b[1;33m\u001b[0m\u001b[1;33m\u001b[0m\u001b[0m\n\u001b[0;32m      5\u001b[0m         \u001b[0mprint\u001b[0m\u001b[1;33m(\u001b[0m\u001b[1;34m\"NOT FOUND\"\u001b[0m\u001b[1;33m)\u001b[0m\u001b[1;33m\u001b[0m\u001b[1;33m\u001b[0m\u001b[0m\n",
      "\u001b[1;31mNameError\u001b[0m: name 'Bing' is not defined"
     ]
    }
   ],
   "source": [
    "print(\"ubicaciones LEED\")\n",
    "geocode('LEED.csv')\n",
    "\n",
    "print (\"ubicaciones CES\")\n",
    "geocode('CES.csv')"
   ]
  },
  {
   "cell_type": "code",
   "execution_count": null,
   "metadata": {},
   "outputs": [],
   "source": [
    "import csv, json\n",
    "from geojson import Feature, FeatureCollection, Point"
   ]
  },
  {
   "cell_type": "code",
   "execution_count": null,
   "metadata": {},
   "outputs": [],
   "source": [
    "features = []\n",
    "with open('data/coor_LEED.csv', newline='') as csvfile:\n",
    "    reader = csv.reader(csvfile, delimiter=',')\n",
    "    for lat, lon in reader:\n",
    "        lat, lon = map(float, (lat, lon))features.append(\n",
    "            Feature(\n",
    "                geometry = Point((lon, lat)),\n",
    "                properties = {\n",
    "                    'weather': 'weather',\n",
    "                    'temp': 'temp'\n",
    "                }\n",
    "            )\n",
    "        )\n",
    "\n",
    "collection = FeatureCollection(features)\n",
    "with open('data/coor_LEED.geojson', \"w\") as f:\n",
    "    f.write('%s' % collection)"
   ]
  }
 ],
 "metadata": {
  "kernelspec": {
   "display_name": "Python 3",
   "language": "python",
   "name": "python3"
  },
  "language_info": {
   "codemirror_mode": {
    "name": "ipython",
    "version": 3
   },
   "file_extension": ".py",
   "mimetype": "text/x-python",
   "name": "python",
   "nbconvert_exporter": "python",
   "pygments_lexer": "ipython3",
   "version": "3.7.4"
  }
 },
 "nbformat": 4,
 "nbformat_minor": 4
}
