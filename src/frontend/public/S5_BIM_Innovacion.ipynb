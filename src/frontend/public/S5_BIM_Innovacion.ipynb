{
 "cells": [
  {
   "cell_type": "markdown",
   "metadata": {},
   "source": [
    "# Section 5: BIM e Innovación"
   ]
  },
  {
   "cell_type": "code",
   "execution_count": 31,
   "metadata": {},
   "outputs": [],
   "source": [
    "# Import Functions to create Json and images\n",
    "from header_fun import *\n",
    "\n",
    "# Naming Functions\n",
    "def naming_image(x):\n",
    "    return global_dir + \"/img/\" + init_data_name + x + '.png'\n",
    "\n",
    "def naming_file(y):\n",
    "    return global_dir + \"/\" + init_data_name + y + '.json'   \n",
    "\n",
    "## Reading Data from API \n",
    "file = 'Innovacion.xlsx'\n",
    "global_dir = \"./data\"\n",
    "norm = False  # no normalizada\n",
    "init_data_name=\"Inov_\"\n",
    "link_data = \"https://smartdata-demo.sfo2.digitaloceanspaces.com/data/Innovacion.xlsx\"\n",
    "link_img = \"https://smartdata-demo.sfo2.digitaloceanspaces.com/data/img/\"\n",
    "link_glosario=\"https://smartdata-demo.sfo2.digitaloceanspaces.com/data/\"\n",
    "info_header=[ {\"titulo\":None,\"Fuente\":None, \"LinkDatosOriginales\":None, \n",
    "               \"comment\":None, \"linkPlot\":None,\"glosario\":None}]     "
   ]
  },
  {
   "cell_type": "markdown",
   "metadata": {},
   "source": [
    "## Processing Data "
   ]
  },
  {
   "cell_type": "markdown",
   "metadata": {},
   "source": [
    "### 1) Inov_01_Tasa_inn.json"
   ]
  },
  {
   "cell_type": "code",
   "execution_count": 32,
   "metadata": {
    "code_folding": []
   },
   "outputs": [
    {
     "name": "stdout",
     "output_type": "stream",
     "text": [
      "set: None\n",
      "CREATED:  ./data/Inov_01_Tasa_inn.json\n"
     ]
    }
   ],
   "source": [
    "sheetname =\"TasaInnovacion\"\n",
    "full_file_name = '01_Tasa_inn'\n",
    "info_header[0][\"titulo\"] = \"Tasa de Innovación en la Industria de la Construcción (%)\"\n",
    "info_header[0][\"Fuente\"] = \"Encuesta innovación\"\n",
    "info_header[0][\"LinkDatosOriginales\"] = link_data\n",
    "info_header[0][\"comment\"] = \"Tasa de Innovación considera las empresas del sector que innovaron en los años correspondientes a los datos de la Encuesta de Innovación. La encuesta 2015 representa el levantamiento de datos de años 2014 y 2015\"\n",
    "info_header[0][\"linkPlot\"] =\"\"\n",
    "info_header[0][\"glosario\"] = \"\"\n",
    "\n",
    "if sheetname == \"TasaInnovacion\":\n",
    "    df = pd.read_excel(file, sheet_name=sheetname)\n",
    "    data = [[\"INNOVARON\"]]\n",
    "    dataCorto = [[\"INNOVARON [%]\"]]\n",
    "\n",
    "    for index, lista in enumerate(data):\n",
    "        toolTip_v = [[]]\n",
    "        toolTip_mening = [[]]\n",
    "        reg_name = [\"PAIS\"]\n",
    "        for index2, varname in enumerate(lista):\n",
    "            if index2 == 0:\n",
    "                varible_v = [varname]\n",
    "                variable_meaning = [dataCorto[index][index2]]\n",
    "            else:\n",
    "                toolTip_v[0].append(varname)\n",
    "                toolTip_mening[0].append(dataCorto[index][index2])\n",
    "                \n",
    "    jsonDir = DataToJson(df, varible_v, variable_meaning,reg_name, toolTip_v, toolTip_mening, norm)\n",
    "    jsonDir = [info_header, jsonDir]\n",
    "    jsonUTF8 = json.dumps(jsonDir, ensure_ascii=False).encode('utf8')\n",
    "    jsonUTF8 = json.loads(jsonUTF8)    \n",
    "#     create_image(df, varible_v[0], variable_meaning[0],naming_image(full_file_name))\n",
    "    name_file = naming_file(full_file_name)\n",
    "    with open(name_file , 'w') as outfile:  \n",
    "        json.dump(jsonUTF8, outfile,ensure_ascii=False)\n",
    "    print(\"CREATED: \", name_file)     "
   ]
  },
  {
   "cell_type": "markdown",
   "metadata": {},
   "source": [
    "### 2) Inov_02_gasto_inn.json"
   ]
  },
  {
   "cell_type": "code",
   "execution_count": 33,
   "metadata": {
    "code_folding": []
   },
   "outputs": [
    {
     "name": "stdout",
     "output_type": "stream",
     "text": [
      "set: None\n",
      "CREATED:  ./data/Inov_02_gasto_inn.json\n"
     ]
    }
   ],
   "source": [
    "sheetname =\"GastoInnovacion\"\n",
    "full_file_name = '02_gasto_inn'\n",
    "info_header[0][\"titulo\"] = \"Gasto en Innovación en relación a las ventas sector construcción (%)\"\n",
    "info_header[0][\"Fuente\"] = \"Encuesta innovación\"\n",
    "info_header[0][\"LinkDatosOriginales\"] = link_data\n",
    "info_header[0][\"comment\"] = \"Considere los gastos declarados por las empresas en cuanto a innovación sobre sus ventas. Fuente Encuesta de Innovación del Ministerio de Economía, Fomento y Turismo. La encuesta 2015 representa el levantamiento de datos de años 2014 y 2015\"\n",
    "info_header[0][\"linkPlot\"] =\"\"\n",
    "info_header[0][\"glosario\"] = \"\"\n",
    "\n",
    "if sheetname == \"GastoInnovacion\":\n",
    "    df = pd.read_excel(file, sheet_name=sheetname)\n",
    "    data = [[\"Porc innovacion\"]]\n",
    "    dataCorto = [[\"Gasto [%]\"]]\n",
    "    for index, lista in enumerate(data):\n",
    "        toolTip_v = [[]]\n",
    "        toolTip_mening = [[]]\n",
    "        reg_name = [\"PAIS\"]\n",
    "        for index2, varname in enumerate(lista):\n",
    "            if index2 == 0:\n",
    "                varible_v = [varname]\n",
    "                variable_meaning = [dataCorto[index][index2]]\n",
    "            else:\n",
    "                toolTip_v[0].append(varname)\n",
    "                toolTip_mening[0].append(dataCorto[index][index2])\n",
    "                \n",
    "    jsonDir = DataToJson(df, varible_v, variable_meaning,reg_name, toolTip_v, toolTip_mening, norm)\n",
    "    jsonDir = [info_header, jsonDir]\n",
    "    jsonUTF8 = json.dumps(jsonDir, ensure_ascii=False).encode('utf8')\n",
    "    jsonUTF8 = json.loads(jsonUTF8)    \n",
    "#     create_image(df, varible_v[0], variable_meaning[0],naming_image(full_file_name))\n",
    "    name_file = naming_file(full_file_name)\n",
    "    with open(name_file , 'w') as outfile:  \n",
    "        json.dump(jsonUTF8, outfile,ensure_ascii=False)\n",
    "    print(\"CREATED: \", name_file)     "
   ]
  },
  {
   "cell_type": "markdown",
   "metadata": {},
   "source": [
    "### 3) Inov_03_Cont_inn.json"
   ]
  },
  {
   "cell_type": "code",
   "execution_count": 34,
   "metadata": {
    "code_folding": []
   },
   "outputs": [
    {
     "name": "stdout",
     "output_type": "stream",
     "text": [
      "set: None\n",
      "CREATED:  ./data/Inov_03_Cont_inn.json\n"
     ]
    }
   ],
   "source": [
    "sheetname = 'Porc_empresas_que_innovan'\n",
    "full_file_name = '03_Cont_inn'\n",
    "info_header[0][\"titulo\"] = \"Innovación por tamaño de empresa (%)\"\n",
    "info_header[0][\"Fuente\"] = \"Encuenta Innovación\"\n",
    "info_header[0][\"LinkDatosOriginales\"] = link_data\n",
    "info_header[0][\"comment\"] = \"Porcentaje de las empresas de construcción que declararon innovar por tamaño de empresa. Fuente: Encuesta de Innovación del Ministerio de Economía, Fomento y Turismo.\"\n",
    "info_header[0][\"linkPlot\"] = \"\"\n",
    "info_header[0][\"glosario\"] = \"\"\n",
    "\n",
    "if sheetname == 'Porc_empresas_que_innovan':\n",
    "    df = pd.read_excel(file, sheet_name=sheetname)\n",
    "    varible_v = [\"Grande_Porc\",\"mediana_Porc\",\"pequeña_Porc\"]\n",
    "    variable_meaning = [\"Grande [%]\",\"Mediana[%]\",\"Pequeña[%]\" ]\n",
    "    reg_name = [\"Grande\",\"Mediana\",\"Pequeña\" ]\n",
    "    toolTip_v = [[],[],[]]\n",
    "    toolTip_mening =[[],[],[]]\n",
    "\n",
    "    jsonDir = DataToJson(df, varible_v, variable_meaning,reg_name, toolTip_v, toolTip_mening)\n",
    "    jsonDir = [info_header, jsonDir]\n",
    "    jsonUTF8 = json.dumps(jsonDir, ensure_ascii=False).encode('utf8')\n",
    "    jsonUTF8 = json.loads(jsonUTF8)    \n",
    "#     create_image(df, varible_v[0], variable_meaning[0],naming_image(full_file_name))\n",
    "    name_file = naming_file(full_file_name)\n",
    "    with open(name_file , 'w') as outfile:  \n",
    "        json.dump(jsonUTF8, outfile,ensure_ascii=False)\n",
    "    print(\"CREATED: \", name_file)     "
   ]
  },
  {
   "cell_type": "markdown",
   "metadata": {},
   "source": [
    "### 4) Inov_04_Nota_Costos.json"
   ]
  },
  {
   "cell_type": "code",
   "execution_count": 35,
   "metadata": {},
   "outputs": [
    {
     "name": "stdout",
     "output_type": "stream",
     "text": [
      "set: None\n",
      "CREATED:  ./data/Inov_04_Nota_Costos.json\n"
     ]
    }
   ],
   "source": [
    "sheetname =\"Nota Factores innovacion\"\n",
    "full_file_name = '04_Nota_Costos'\n",
    "info_header[0][\"titulo\"] = \"Nota Costos\"\n",
    "info_header[0][\"Fuente\"] = \"Encuesta innovación\"\n",
    "info_header[0][\"LinkDatosOriginales\"] = link_data\n",
    "info_header[0][\"comment\"] = \"Factores que las empresas consideraron para no innovar, entre ellos están: falta de fondos propios, falta de financiamientos externos, costo de innovación muy alto. Los valores van de 1 a 4, donde 1 es importancia alta; 2 es importancia media; 3 es importancia baja; y 4 es no relevante.\"\n",
    "info_header[0][\"linkPlot\"] =\"\"\n",
    "info_header[0][\"glosario\"] = \"\"\n",
    "\n",
    "if sheetname == \"Nota Factores innovacion\":\n",
    "    df = pd.read_excel(file, sheet_name=sheetname)\n",
    "    data = [[\"Nota Costos\"]]\n",
    "    dataCorto = [[\"Nota Costos\"]]\n",
    "    for index, lista in enumerate(data):\n",
    "        toolTip_v = [[]]\n",
    "        toolTip_mening = [[]]\n",
    "        reg_name = [\"PAIS\"]\n",
    "        for index2, varname in enumerate(lista):\n",
    "            if index2 == 0:\n",
    "                varible_v = [varname]\n",
    "                variable_meaning = [dataCorto[index][index2]]\n",
    "            else:\n",
    "                toolTip_v[0].append(varname)\n",
    "                toolTip_mening[0].append(dataCorto[index][index2])\n",
    "                \n",
    "    jsonDir = DataToJson(df, varible_v, variable_meaning,reg_name, toolTip_v, toolTip_mening, norm)\n",
    "    jsonDir = [info_header, jsonDir]\n",
    "    jsonUTF8 = json.dumps(jsonDir, ensure_ascii=False).encode('utf8')\n",
    "    jsonUTF8 = json.loads(jsonUTF8)    \n",
    "#     create_image(df, varible_v[0], variable_meaning[0],naming_image(full_file_name))\n",
    "    name_file = naming_file(full_file_name)\n",
    "    with open(name_file , 'w') as outfile:  \n",
    "        json.dump(jsonUTF8, outfile,ensure_ascii=False)\n",
    "    print(\"CREATED: \", name_file)     "
   ]
  },
  {
   "cell_type": "markdown",
   "metadata": {},
   "source": [
    "### 5) Inov_05_Nota_conocimiento.json"
   ]
  },
  {
   "cell_type": "code",
   "execution_count": 36,
   "metadata": {},
   "outputs": [
    {
     "name": "stdout",
     "output_type": "stream",
     "text": [
      "set: None\n",
      "CREATED:  ./data/Inov_05_Nota_conocimiento.json\n"
     ]
    }
   ],
   "source": [
    "sheetname =\"Nota Factores innovacion\"\n",
    "full_file_name = '05_Nota_conocimiento'\n",
    "info_header[0][\"titulo\"] = \"Nota Conocimiento\"\n",
    "info_header[0][\"Fuente\"] = \"Encuesta innovación\"\n",
    "info_header[0][\"LinkDatosOriginales\"] = link_data\n",
    "info_header[0][\"comment\"] =\"Factores que las empresas consideraron para no innovar, entre ellos están: falta de personal calificado, falta de información sobre la tecnología y mercados, dificultad para encontrar partner. Los valores van de 1 a 4, donde 1 es importancia alta; 2 es importancia media; 3 es importancia baja; y 4 es no relevante\" \n",
    "info_header[0][\"linkPlot\"] = \"\"\n",
    "info_header[0][\"glosario\"] = \"\"\n",
    "\n",
    "if sheetname == \"Nota Factores innovacion\":\n",
    "    df = pd.read_excel(file, sheet_name=sheetname)\n",
    "    data = [[\"Nota conocimiento\"]]\n",
    "    dataCorto = [[\"Nota Conocimiento\"]]\n",
    "    for index, lista in enumerate(data):\n",
    "        toolTip_v = [[]]\n",
    "        toolTip_mening = [[]]\n",
    "        reg_name = [\"PAIS\"]\n",
    "        for index2, varname in enumerate(lista):\n",
    "            if index2 == 0:\n",
    "                # Nombre de la variable\n",
    "                varible_v = [varname]\n",
    "                variable_meaning = [dataCorto[index][index2]]\n",
    "            else:\n",
    "                toolTip_v[0].append(varname)\n",
    "                toolTip_mening[0].append(dataCorto[index][index2])\n",
    "                \n",
    "    jsonDir = DataToJson(df, varible_v, variable_meaning,reg_name, toolTip_v, toolTip_mening, norm)\n",
    "    jsonDir = [info_header, jsonDir]\n",
    "    jsonUTF8 = json.dumps(jsonDir, ensure_ascii=False).encode('utf8')\n",
    "    jsonUTF8 = json.loads(jsonUTF8)    \n",
    "#     create_image(df, varible_v[0], variable_meaning[0],naming_image(full_file_name))\n",
    "    name_file = naming_file(full_file_name)\n",
    "    with open(name_file , 'w') as outfile:  \n",
    "        json.dump(jsonUTF8, outfile,ensure_ascii=False)\n",
    "    print(\"CREATED: \", name_file)     "
   ]
  },
  {
   "cell_type": "markdown",
   "metadata": {},
   "source": [
    "### 6) Inov_06_Nota_Mercado.json"
   ]
  },
  {
   "cell_type": "code",
   "execution_count": 37,
   "metadata": {},
   "outputs": [
    {
     "name": "stdout",
     "output_type": "stream",
     "text": [
      "set: None\n",
      "CREATED:  ./data/Inov_06_Nota_Mercado.json\n"
     ]
    }
   ],
   "source": [
    "sheetname =\"Nota Factores innovacion\"\n",
    "full_file_name = '06_Nota_Mercado'\n",
    "info_header[0][\"titulo\"] = \"Nota Mercado\"\n",
    "info_header[0][\"Fuente\"] = \"Encuesta innovación\"\n",
    "info_header[0][\"LinkDatosOriginales\"] = link_data\n",
    "info_header[0][\"comment\"] =\"Factores que las empresas consideraron para no innovar, entre ellos están: mercado dominado por empresas establecidas, incertidumbre por demanda de productos y/o servicios innovadores. Los valores van de 1 a 4, donde 1 es importancia alta; 2 es importancia media; 3 es importancia baja; y 4 es no relevante\" \n",
    "info_header[0][\"linkPlot\"] = \"\"\n",
    "info_header[0][\"glosario\"] = \"\"\n",
    "\n",
    "if sheetname == \"Nota Factores innovacion\":\n",
    "    df = pd.read_excel(file, sheet_name=sheetname)\n",
    "    data = [[\"Nota Mercado\"]]\n",
    "    dataCorto = [[\"Nota Mercado\"]]\n",
    "    for index, lista in enumerate(data):\n",
    "        toolTip_v = [[]]\n",
    "        toolTip_mening = [[]]\n",
    "        reg_name = [\"PAIS\"]\n",
    "        for index2, varname in enumerate(lista):\n",
    "            if index2 == 0:\n",
    "                # Nombre de la variable\n",
    "                varible_v = [varname]\n",
    "                variable_meaning = [dataCorto[index][index2]]\n",
    "            else:\n",
    "                toolTip_v[0].append(varname)\n",
    "                toolTip_mening[0].append(dataCorto[index][index2])\n",
    "                \n",
    "    jsonDir = DataToJson(df, varible_v, variable_meaning,reg_name, toolTip_v, toolTip_mening, norm)\n",
    "    jsonDir = [info_header, jsonDir]\n",
    "    jsonUTF8 = json.dumps(jsonDir, ensure_ascii=False).encode('utf8')\n",
    "    jsonUTF8 = json.loads(jsonUTF8)    \n",
    "#     create_image(df, varible_v[0], variable_meaning[0],naming_image(full_file_name))\n",
    "    name_file = naming_file(full_file_name)\n",
    "    with open(name_file , 'w') as outfile:  \n",
    "        json.dump(jsonUTF8, outfile,ensure_ascii=False)\n",
    "    print(\"CREATED: \", name_file)     "
   ]
  },
  {
   "cell_type": "markdown",
   "metadata": {},
   "source": [
    "### 7) Inov_07_Nota_otros_factores.json"
   ]
  },
  {
   "cell_type": "code",
   "execution_count": 38,
   "metadata": {},
   "outputs": [
    {
     "name": "stdout",
     "output_type": "stream",
     "text": [
      "set: None\n",
      "CREATED:  ./data/Inov_07_Nota_otros_factores.json\n"
     ]
    }
   ],
   "source": [
    "sheetname =\"Nota Factores innovacion\"\n",
    "full_file_name = '07_Nota_otros_factores'\n",
    "info_header[0][\"titulo\"] = \"Nota Mercado: Otros Factores\"\n",
    "info_header[0][\"Fuente\"] = \"Encuesta innovación\"\n",
    "info_header[0][\"LinkDatosOriginales\"] = link_data\n",
    "info_header[0][\"comment\"] =\"Factores que las empresas consideraron para no innovar, entre ellos están: innecesario, falta de demanda y dificultad regulatoria. Los valores van de 1 a 4, donde 1 es importancia alta; 2 es importancia media; 3 es importancia baja; y 4 es no relevante\" \n",
    "info_header[0][\"linkPlot\"] = \"\"\n",
    "info_header[0][\"glosario\"] = \"\"\n",
    "\n",
    "if sheetname == \"Nota Factores innovacion\":\n",
    "    df = pd.read_excel(file, sheet_name=sheetname)\n",
    "    data = [[\"Nota Otros\"]]\n",
    "    dataCorto = [[\"Nota Otros\"]]\n",
    "    for index, lista in enumerate(data):\n",
    "        toolTip_v = [[]]\n",
    "        toolTip_mening = [[]]\n",
    "        reg_name = [\"PAIS\"]\n",
    "        for index2, varname in enumerate(lista):\n",
    "            if index2 == 0:\n",
    "                varible_v = [varname]\n",
    "                variable_meaning = [dataCorto[index][index2]]\n",
    "            else:\n",
    "                toolTip_v[0].append(varname)\n",
    "                toolTip_mening[0].append(dataCorto[index][index2])\n",
    "                \n",
    "    jsonDir = DataToJson(df, varible_v, variable_meaning,reg_name, toolTip_v, toolTip_mening, norm)\n",
    "    jsonDir = [info_header, jsonDir]\n",
    "    jsonUTF8 = json.dumps(jsonDir, ensure_ascii=False).encode('utf8')\n",
    "    jsonUTF8 = json.loads(jsonUTF8)    \n",
    "#     create_image(df, varible_v[0], variable_meaning[0],naming_image(full_file_name))\n",
    "    name_file = naming_file(full_file_name)\n",
    "    with open(name_file , 'w') as outfile:  \n",
    "        json.dump(jsonUTF8, outfile,ensure_ascii=False)\n",
    "    print(\"CREATED: \", name_file)     "
   ]
  },
  {
   "cell_type": "markdown",
   "metadata": {},
   "source": [
    "### 8) Inov_08_Inn_futura2.json"
   ]
  },
  {
   "cell_type": "code",
   "execution_count": 39,
   "metadata": {},
   "outputs": [
    {
     "name": "stdout",
     "output_type": "stream",
     "text": [
      "set: None\n",
      "CREATED:  ./data/Inov_08_Inn_futura2.json\n"
     ]
    }
   ],
   "source": [
    "sheetname =\"InnovacionFutura\"\n",
    "full_file_name = '08_Inn_futura2'\n",
    "info_header[0][\"titulo\"] = \"Predisposición a innovar en 2 años (%)\"\n",
    "info_header[0][\"Fuente\"] = \"Encuesta innovación\"\n",
    "info_header[0][\"LinkDatosOriginales\"] = link_data\n",
    "info_header[0][\"comment\"] = \"Predisposición de las empresas a innovar en 2 años más. Fuente: Encuesta de Innovación\"\n",
    "info_header[0][\"linkPlot\"] =\"\"\n",
    "info_header[0][\"glosario\"] = \"\"\n",
    "\n",
    "if sheetname == \"InnovacionFutura\":\n",
    "    df = pd.read_excel(file, sheet_name=sheetname)\n",
    "    data = [[\"Innovacion futura\"]]\n",
    "    dataCorto = [[\"Innovacion futura\"]]\n",
    "    for index, lista in enumerate(data):\n",
    "        toolTip_v = [[]]\n",
    "        toolTip_mening = [[]]\n",
    "        reg_name = [\"PAIS\"]\n",
    "        for index2, varname in enumerate(lista):\n",
    "            if index2 == 0:\n",
    "                varible_v = [varname]\n",
    "                variable_meaning = [dataCorto[index][index2]]\n",
    "            else:\n",
    "                toolTip_v[0].append(varname)\n",
    "                toolTip_mening[0].append(dataCorto[index][index2])\n",
    "                \n",
    "    jsonDir = DataToJson(df, varible_v, variable_meaning,reg_name, toolTip_v, toolTip_mening, norm)\n",
    "    jsonDir = [info_header, jsonDir]\n",
    "    jsonUTF8 = json.dumps(jsonDir, ensure_ascii=False).encode('utf8')\n",
    "    jsonUTF8 = json.loads(jsonUTF8)    \n",
    "#     create_image(df, varible_v[0], variable_meaning[0],naming_image(full_file_name))\n",
    "    name_file = naming_file(full_file_name)\n",
    "    with open(name_file , 'w') as outfile:  \n",
    "        json.dump(jsonUTF8, outfile,ensure_ascii=False)\n",
    "    print(\"CREATED: \", name_file)     "
   ]
  },
  {
   "cell_type": "markdown",
   "metadata": {},
   "source": [
    "### 9) Inov_09_Bim_inst.json"
   ]
  },
  {
   "cell_type": "code",
   "execution_count": 40,
   "metadata": {},
   "outputs": [
    {
     "name": "stdout",
     "output_type": "stream",
     "text": [
      "set: None\n",
      "CREATED:  ./data/Inov_09_Bim_inst.json\n"
     ]
    }
   ],
   "source": [
    "sheetname = 'Institucion'\n",
    "file='BIM.xlsx'\n",
    "full_file_name = '09_Bim_inst'\n",
    "info_header[0][\"titulo\"] = \"Instituciones con capacitación formal de BIM por tipo de institución\"\n",
    "info_header[0][\"Fuente\"] = \"PlanBIM\"\n",
    "info_header[0][\"LinkDatosOriginales\"] = link_data\n",
    "info_header[0][\"comment\"] = \"Cantidad de carreras que con formación profesional BIM por tipo de institución. Fuente: Plan BIM\"\n",
    "info_header[0][\"linkPlot\"] = \"\"\n",
    "info_header[0][\"glosario\"] = \"\"\n",
    "\n",
    "if sheetname == 'Institucion':\n",
    "    df = pd.read_excel(file, sheet_name=sheetname)\n",
    "    varible_v = [ 'total','Universidades','Institutos Profesionales',\n",
    "       'Centros de Formación Técnica', 'Empresas']\n",
    "    variable_meaning = [\"total\" ,\"Universidades\",\"Inst. Prof.\",\n",
    "        \"Form. Técnica\",\"Empresas\"]\n",
    "    reg_name = [\"Total\" ,\"Universidades\",\"Inst. Prof.\",\n",
    "        \"Form. Técnica\",\"Empresas\"]\n",
    "    toolTip_v = [[\"var_total\"],\n",
    "    ['var_Universidades'],\n",
    "    [\"var_Institutos Profesionales\"],\n",
    "    [\"var_Centros de Formación Técnica\"],\n",
    "    [\"var_Empresas\"]]\n",
    "    toolTip_mening =[[\"Var Anual\"],[\"Var Anual\"],[\"Var Anual\"],\n",
    "                    [\"Var Anual\"],[\"Var Anual\"]]\n",
    "\n",
    "\n",
    "    jsonDir = DataToJson(df, varible_v, variable_meaning,reg_name, toolTip_v, toolTip_mening)\n",
    "    jsonDir = [info_header, jsonDir]\n",
    "    jsonUTF8 = json.dumps(jsonDir, ensure_ascii=False).encode('utf8')\n",
    "    jsonUTF8 = json.loads(jsonUTF8)    \n",
    "#     create_image(df, varible_v[0], variable_meaning[0],naming_image(full_file_name))\n",
    "    name_file = naming_file(full_file_name)\n",
    "    with open(name_file , 'w') as outfile:  \n",
    "        json.dump(jsonUTF8, outfile,ensure_ascii=False)\n",
    "    print(\"CREATED: \", name_file)     "
   ]
  },
  {
   "cell_type": "markdown",
   "metadata": {},
   "source": [
    "### 10) Inov_10_Bim_inst_region.json"
   ]
  },
  {
   "cell_type": "code",
   "execution_count": 45,
   "metadata": {},
   "outputs": [
    {
     "name": "stdout",
     "output_type": "stream",
     "text": [
      "set: None\n",
      "CREATED:  ./data/Inov_10_Bim_inst_region.json\n"
     ]
    }
   ],
   "source": [
    "sheetname = 'region'\n",
    "file='BIM.xlsx'\n",
    "full_file_name = '10_Bim_inst_region'\n",
    "info_header[0][\"titulo\"]= \"Instituciones con capacitación formal de BIM por nivel de carrera y región\"\n",
    "info_header[0][\"Fuente\"]=\"ENCUESTA BIM\"\n",
    "info_header[0][\"LinkDatosOriginales\"]=link_data\n",
    "info_header[0][\"comment\"]= \"Cantidad de carreras que con formación profesional BIM por nivel de carrera y región. Fuente: Plan BIM\"\n",
    "info_header[0][\"linkPlot\"]=\"\"\n",
    "info_header[0][\"glosario\"]=\"\"\n",
    "\n",
    "if sheetname == 'region':\n",
    "    df = pd.read_excel(file, sheet_name=sheetname)\n",
    "    varible_v=[\"Total REGIÓN DE AYSÉN\",\n",
    "               \"Total REGIÓN DE ANTOFAGASTA\",\n",
    "               \"Total REGIÓN DE ARICA Y PARINACOTA\",\n",
    "               \"Total REGIÓN DE COQUIMBO\",\n",
    "               \"Total REGIÓN DE LA ARAUCANÍA\",\n",
    "               \"Total REGIÓN DE LOS LAGOS\",\n",
    "               \"Total REGIÓN DE LOS RÍOS\",\n",
    "               \"Total REGIÓN DE MAGALLANES Y ANTÁRTICA CHILENA\",\n",
    "               \"Total REGIÓN DE ÑUBLE\",\n",
    "               \"Total REGIÓN DE TARAPACÁ\",\n",
    "               \"Total REGIÓN DE VALPARAÍSO\",\n",
    "               \"Total REGIÓN DEL BIO BIO\",\n",
    "               \"Total REGIÓN DEL MAULE\",\n",
    "               \"Total REGIÓN LIBERTADOR BERNARDO OHIGGINS\",\n",
    "               \"Total REGIÓN METROPOLITANA\"]\n",
    "   \n",
    "    variable_meaning=[\"Total REGIÓN DE AYSÉN\",\n",
    "               \"Total REGIÓN DE ANTOFAGASTA\",\n",
    "               \"Total REGIÓN DE ARICA Y PARINACOTA\",\n",
    "               \"Total REGIÓN DE COQUIMBO\",\n",
    "               \"Total REGIÓN DE LA ARAUCANÍA\",\n",
    "               \"Total REGIÓN DE LOS LAGOS\",\n",
    "               \"Total REGIÓN DE LOS RÍOS\",\n",
    "               \"Total REGIÓN DE MAGALLANES Y ANTÁRTICA CHILENA\",\n",
    "               \"Total REGIÓN DE ÑUBLE\",\n",
    "               \"Total REGIÓN DE TARAPACÁ\",\n",
    "               \"Total REGIÓN DE VALPARAÍSO\",\n",
    "               \"Total REGIÓN DEL BIO BIO\",\n",
    "               \"Total REGIÓN DEL MAULE\",\n",
    "               \"Total REGIÓN LIBERTADOR BERNARDO OHIGGINS\",\n",
    "               \"Total REGIÓN METROPOLITANA\"]\n",
    "   \n",
    "    \n",
    "    regiones=[\"Total REGIÓN DE AYSÉN\",\n",
    "               \"Total REGIÓN DE ANTOFAGASTA\",\n",
    "               \"Total REGIÓN DE ARICA Y PARINACOTA\",\n",
    "               \"Total REGIÓN DE COQUIMBO\",\n",
    "               \"Total REGIÓN DE LA ARAUCANÍA\",\n",
    "               \"Total REGIÓN DE LOS LAGOS\",\n",
    "               \"Total REGIÓN DE LOS RÍOS\",\n",
    "               \"Total REGIÓN DE MAGALLANES Y ANTÁRTICA CHILENA\",\n",
    "               \"Total REGIÓN DE ÑUBLE\",\n",
    "               \"Total REGIÓN DE TARAPACÁ\",\n",
    "               \"Total REGIÓN DE VALPARAÍSO\",\n",
    "               \"Total REGIÓN DEL BIO BIO\",\n",
    "               \"Total REGIÓN DEL MAULE\",\n",
    "               \"Total REGIÓN LIBERTADOR BERNARDO OHIGGINS\",\n",
    "               \"Total REGIÓN METROPOLITANA\"]\n",
    "   #           \"Postgrado REGIÓN DE AYSÉN\",\"Postgrado REGIÓN DE ANTOFAGASTA\",\"Postgrado REGIÓN DE ARICA Y PARINACOTA\",\"Postgrado REGIÓN DE COQUIMBO\",\"Postgrado REGIÓN DE LA ARAUCANÍA\",\"Postgrado REGIÓN DE LOS LAGOS\",\"Postgrado REGIÓN DE LOS RÍOS\",\"Postgrado REGIÓN DE MAGALLANES Y ANTÁRTICA CHILENA\",\"Postgrado REGIÓN DE ÑUBLE\",\"Postgrado REGIÓN DE TARAPACÁ\",\"Postgrado REGIÓN DE VALPARAÍSO\",\"Postgrado REGIÓN DEL BIO BIO\",\"Postgrado REGIÓN DEL MAULE\",\"Postgrado REGIÓN LIBERTADOR GENERAL BERNARDO OHIGGINS\",\"Postgrado REGIÓN METROPOLITANA\"]\n",
    "   #           \"Postítulo REGIÓN DE AYSÉN\",\"Postítulo REGIÓN DE ANTOFAGASTA\",\"Postítulo REGIÓN DE ARICA Y PARINACOTA\",\"Postítulo REGIÓN DE COQUIMBO\",\"Postítulo REGIÓN DE LA ARAUCANÍA\",\"Postítulo REGIÓN DE LOS LAGOS\",\"Postítulo REGIÓN DE LOS RÍOS\",\"Postítulo REGIÓN DE MAGALLANES Y ANTÁRTICA CHILENA\",\"Postítulo REGIÓN DE ÑUBLE\",\"Postítulo REGIÓN DE TARAPACÁ\",\"Postítulo REGIÓN DE VALPARAÍSO\",\"Postítulo REGIÓN DEL BIO BIO\",\"Postítulo REGIÓN DEL MAULE\",\"Postítulo REGIÓN LIBERTADOR GENERAL BERNARDO OHIGGINS\",\"Postítulo REGIÓN METROPOLITANA\",\n",
    "   #            \"Pregrado REGIÓN DE AYSÉN\",\"Pregrado REGIÓN DE ANTOFAGASTA\",\"Pregrado REGIÓN DE ARICA Y PARINACOTA\",\"Pregrado REGIÓN DE COQUIMBO\",\"Pregrado REGIÓN DE LA ARAUCANÍA\",\"Pregrado REGIÓN DE LOS LAGOS\",\"Pregrado REGIÓN DE LOS RÍOS\",\"Pregrado REGIÓN DE MAGALLANES Y ANTÁRTICA CHILENA\",\"Pregrado REGIÓN DE ÑUBLE\",\"Pregrado REGIÓN DE TARAPACÁ\",\"Pregrado REGIÓN DE VALPARAÍSO\",\"Pregrado REGIÓN DEL BIO BIO\",\"Pregrado REGIÓN DEL MAULE\",\"Pregrado REGIÓN LIBERTADOR GENERAL BERNARDO OHIGGINS\",\"Pregrado REGIÓN METROPOLITANA\"]\n",
    "    reg_name=[\n",
    "    'Aysén',\n",
    "    'Antofagasta',\n",
    "    'Arica y Parinacota',\n",
    "#    'Atacama',\n",
    "    'Coquimbo',\n",
    "    'Araucanía',\n",
    "    'Los Lagos',\n",
    "    'Los Ríos',\n",
    "    'Magallanes',\n",
    "    'Ñuble',\n",
    "    'Tarapacá',\n",
    "    'Valparaíso',\n",
    "    'Biobio',\n",
    "    'Maule',\n",
    "    \"O'Higgins\",\n",
    "    'Metropolitana'\n",
    "    ]    \n",
    "\n",
    "    toolTip_v=[[\"Postgrado REGIÓN DE AYSÉN\",\"Postítulo REGIÓN DE AYSÉN\",\"Pregrado REGIÓN DE AYSÉN\"],\n",
    "               [\"Postgrado REGIÓN DE ANTOFAGASTA\",\"Postítulo REGIÓN DE ANTOFAGASTA\",\"Pregrado REGIÓN DE ANTOFAGASTA\"],\n",
    "               [\"Postgrado REGIÓN DE ARICA Y PARINACOTA\",\"Postítulo REGIÓN DE ARICA Y PARINACOTA\",\"Pregrado REGIÓN DE ARICA Y PARINACOTA\"],\n",
    "               [\"Postgrado REGIÓN DE COQUIMBO\",\"Postítulo REGIÓN DE COQUIMBO\",\"Pregrado REGIÓN DE COQUIMBO\"],\n",
    "               [\"Postgrado REGIÓN DE LA ARAUCANÍA\",\"Postítulo REGIÓN DE LA ARAUCANÍA\",\"Pregrado REGIÓN DE LA ARAUCANÍA\"],\n",
    "               [\"Postgrado REGIÓN DE LOS LAGOS\",\"Postítulo REGIÓN DE LOS LAGOS\",\"Pregrado REGIÓN DE LOS LAGOS\"],\n",
    "               [\"Postgrado REGIÓN DE LOS RÍOS\",\"Postítulo REGIÓN DE LOS RÍOS\",\"Pregrado REGIÓN DE LOS RÍOS\"],\n",
    "               [\"Postgrado REGIÓN DE MAGALLANES Y ANTÁRTICA CHILENA\",\"Postítulo REGIÓN DE MAGALLANES Y ANTÁRTICA CHILENA\",\"Pregrado REGIÓN DE MAGALLANES Y ANTÁRTICA CHILENA\"],\n",
    "               [\"Postgrado REGIÓN DE ÑUBLE\",\"Postítulo REGIÓN DE ÑUBLE\",\"Pregrado REGIÓN DE ÑUBLE\"],\n",
    "               [\"Postgrado REGIÓN DE TARAPACÁ\",\"Postítulo REGIÓN DE TARAPACÁ\",\"Pregrado REGIÓN DE TARAPACÁ\"],\n",
    "               [\"Postgrado REGIÓN DE VALPARAÍSO\",\"Postítulo REGIÓN DE VALPARAÍSO\",\"Pregrado REGIÓN DE VALPARAÍSO\"],\n",
    "               [\"Postgrado REGIÓN DEL BIO BIO\",\"Postítulo REGIÓN DEL BIO BIO\",\"Pregrado REGIÓN DEL BIO BIO\"],\n",
    "               [\"Postgrado REGIÓN DEL MAULE\",\"Postítulo REGIÓN DEL MAULE\",\"Pregrado REGIÓN DEL MAULE\"],\n",
    "               [\"Postgrado REGIÓN LIBERTADOR GENERAL BERNARDO OHIGGINS\",\"Postítulo REGIÓN LIBERTADOR GENERAL BERNARDO OHIGGINS\",\"Pregrado REGIÓN LIBERTADOR GENERAL BERNARDO OHIGGINS\"],\n",
    "               [\"Postgrado REGIÓN METROPOLITANA\",\"Postítulo REGIÓN METROPOLITANA\",\"Pregrado REGIÓN METROPOLITANA\"]]\n",
    "    \n",
    "    toolTip_mening=[[\"Postgrado\",\"Postítulo\",\"Pregrado\"],[\"Postgrado\",\"Postítulo\",\"Pregrado\"],\n",
    "                    [\"Postgrado\",\"Postítulo\",\"Pregrado\"],[\"Postgrado\",\"Postítulo\",\"Pregrado\"],\n",
    "                    [\"Postgrado\",\"Postítulo\",\"Pregrado\"],[\"Postgrado\",\"Postítulo\",\"Pregrado\"],\n",
    "                    [\"Postgrado\",\"Postítulo\",\"Pregrado\"],[\"Postgrado\",\"Postítulo\",\"Pregrado\"],\n",
    "                    [\"Postgrado\",\"Postítulo\",\"Pregrado\"],[\"Postgrado\",\"Postítulo\",\"Pregrado\"],\n",
    "                    [\"Postgrado\",\"Postítulo\",\"Pregrado\"],[\"Postgrado\",\"Postítulo\",\"Pregrado\"],\n",
    "                    [\"Postgrado\",\"Postítulo\",\"Pregrado\"],[\"Postgrado\",\"Postítulo\",\"Pregrado\"],\n",
    "                    [\"Postgrado\",\"Postítulo\",\"Pregrado\"]]\n",
    "\n",
    "    jsonDir = DataToJson(df,varible_v,variable_meaning,reg_name, toolTip_v, toolTip_mening)\n",
    "    jsonDir = [info_header, jsonDir]\n",
    "    jsonUTF8 = json.dumps(jsonDir, ensure_ascii=False).encode('utf8')\n",
    "    jsonUTF8 = json.loads(jsonUTF8)    \n",
    "#     create_image(df, varible_v[0], variable_meaning[0],naming_image(full_file_name))\n",
    "    name_file = naming_file(full_file_name)\n",
    "    with open(name_file , 'w') as outfile:  \n",
    "        json.dump(jsonUTF8, outfile,ensure_ascii=False)\n",
    "    print(\"CREATED: \", name_file)     "
   ]
  },
  {
   "cell_type": "code",
   "execution_count": null,
   "metadata": {},
   "outputs": [],
   "source": []
  },
  {
   "cell_type": "code",
   "execution_count": null,
   "metadata": {},
   "outputs": [],
   "source": []
  }
 ],
 "metadata": {
  "kernelspec": {
   "display_name": "Python 3",
   "language": "python",
   "name": "python3"
  },
  "language_info": {
   "codemirror_mode": {
    "name": "ipython",
    "version": 3
   },
   "file_extension": ".py",
   "mimetype": "text/x-python",
   "name": "python",
   "nbconvert_exporter": "python",
   "pygments_lexer": "ipython3",
   "version": "3.7.4"
  }
 },
 "nbformat": 4,
 "nbformat_minor": 2
}
